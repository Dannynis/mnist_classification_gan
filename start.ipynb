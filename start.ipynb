{
 "cells": [
  {
   "cell_type": "code",
   "execution_count": 25,
   "metadata": {},
   "outputs": [
    {
     "name": "stdout",
     "output_type": "stream",
     "text": [
      "Epoch 1/50 | D Loss: 0.0640 | G Loss: 6.0927 | C Loss: 0.2203\n",
      "Epoch 2/50 | D Loss: 0.7741 | G Loss: 3.6505 | C Loss: 0.1359\n",
      "Epoch 3/50 | D Loss: 0.1231 | G Loss: 4.9245 | C Loss: 0.1675\n",
      "Epoch 4/50 | D Loss: 0.1094 | G Loss: 5.6866 | C Loss: 0.1001\n",
      "Epoch 5/50 | D Loss: 0.0372 | G Loss: 5.5885 | C Loss: 0.2505\n",
      "Epoch 6/50 | D Loss: 0.1230 | G Loss: 6.9776 | C Loss: 0.1399\n",
      "Epoch 7/50 | D Loss: 0.1927 | G Loss: 5.8541 | C Loss: 0.0607\n",
      "Epoch 8/50 | D Loss: 0.1343 | G Loss: 4.9601 | C Loss: 0.0482\n",
      "Epoch 9/50 | D Loss: 0.2947 | G Loss: 4.3020 | C Loss: 0.1328\n",
      "Epoch 10/50 | D Loss: 0.0141 | G Loss: 7.4313 | C Loss: 0.0064\n",
      "Epoch 11/50 | D Loss: 0.6735 | G Loss: 4.3857 | C Loss: 0.0987\n",
      "Epoch 12/50 | D Loss: 0.0364 | G Loss: 6.4866 | C Loss: 0.1163\n",
      "Epoch 13/50 | D Loss: 0.0073 | G Loss: 13.0276 | C Loss: 0.0130\n",
      "Epoch 14/50 | D Loss: 0.0122 | G Loss: 6.8299 | C Loss: 0.0092\n",
      "Epoch 15/50 | D Loss: 0.0080 | G Loss: 8.0922 | C Loss: 0.0082\n",
      "Epoch 16/50 | D Loss: 0.1816 | G Loss: 6.5035 | C Loss: 0.0855\n",
      "Epoch 17/50 | D Loss: 0.0119 | G Loss: 8.1899 | C Loss: 0.0907\n",
      "Epoch 18/50 | D Loss: 0.0478 | G Loss: 8.1170 | C Loss: 0.0234\n",
      "Epoch 19/50 | D Loss: 0.2045 | G Loss: 7.8493 | C Loss: 0.0681\n",
      "Epoch 20/50 | D Loss: 0.0202 | G Loss: 8.6016 | C Loss: 0.0057\n",
      "Epoch 21/50 | D Loss: 0.2704 | G Loss: 6.4385 | C Loss: 0.0418\n",
      "Epoch 22/50 | D Loss: 0.1513 | G Loss: 5.7224 | C Loss: 0.0004\n",
      "Epoch 23/50 | D Loss: 0.0998 | G Loss: 6.2233 | C Loss: 0.0005\n",
      "Epoch 24/50 | D Loss: 0.2038 | G Loss: 7.5894 | C Loss: 0.0279\n",
      "Epoch 25/50 | D Loss: 0.1358 | G Loss: 5.6628 | C Loss: 0.0048\n",
      "Epoch 26/50 | D Loss: 0.1797 | G Loss: 4.9066 | C Loss: 0.0038\n",
      "Epoch 27/50 | D Loss: 0.1664 | G Loss: 5.4371 | C Loss: 0.0116\n",
      "Epoch 28/50 | D Loss: 0.1269 | G Loss: 4.5373 | C Loss: 0.0210\n",
      "Epoch 29/50 | D Loss: 0.2375 | G Loss: 5.0684 | C Loss: 0.0007\n",
      "Epoch 30/50 | D Loss: 0.1136 | G Loss: 6.1594 | C Loss: 0.0022\n",
      "Epoch 31/50 | D Loss: 0.1178 | G Loss: 5.6829 | C Loss: 0.0276\n",
      "Epoch 32/50 | D Loss: 0.1337 | G Loss: 5.0211 | C Loss: 0.0098\n",
      "Epoch 33/50 | D Loss: 0.0896 | G Loss: 6.1445 | C Loss: 0.0034\n",
      "Epoch 34/50 | D Loss: 0.2366 | G Loss: 4.5796 | C Loss: 0.0002\n",
      "Epoch 35/50 | D Loss: 0.2030 | G Loss: 4.1645 | C Loss: 0.0033\n",
      "Epoch 36/50 | D Loss: 0.1650 | G Loss: 3.9884 | C Loss: 0.0003\n",
      "Epoch 37/50 | D Loss: 0.1879 | G Loss: 4.8361 | C Loss: 0.0023\n",
      "Epoch 38/50 | D Loss: 0.2339 | G Loss: 4.5958 | C Loss: 0.0007\n",
      "Epoch 39/50 | D Loss: 0.2164 | G Loss: 5.4248 | C Loss: 0.0023\n",
      "Epoch 40/50 | D Loss: 0.4356 | G Loss: 3.1607 | C Loss: 0.0056\n",
      "Epoch 41/50 | D Loss: 0.3030 | G Loss: 4.5208 | C Loss: 0.0021\n",
      "Epoch 42/50 | D Loss: 0.3435 | G Loss: 4.2554 | C Loss: 0.0000\n",
      "Epoch 43/50 | D Loss: 0.3421 | G Loss: 4.3726 | C Loss: 0.0114\n",
      "Epoch 44/50 | D Loss: 0.2564 | G Loss: 3.6845 | C Loss: 0.0000\n",
      "Epoch 45/50 | D Loss: 0.1905 | G Loss: 5.1915 | C Loss: 0.0000\n",
      "Epoch 46/50 | D Loss: 0.3899 | G Loss: 4.7802 | C Loss: 0.0041\n",
      "Epoch 47/50 | D Loss: 0.2615 | G Loss: 3.0612 | C Loss: 0.0006\n",
      "Epoch 48/50 | D Loss: 0.3649 | G Loss: 2.8803 | C Loss: 0.0566\n",
      "Epoch 49/50 | D Loss: 0.3074 | G Loss: 4.0618 | C Loss: 0.0714\n",
      "Epoch 50/50 | D Loss: 0.3430 | G Loss: 3.1391 | C Loss: 0.0001\n"
     ]
    }
   ],
   "source": [
    "import torch\n",
    "import torch.nn as nn\n",
    "import torch.optim as optim\n",
    "import torchvision\n",
    "import torchvision.transforms as transforms\n",
    "from torch.utils.data import DataLoader\n",
    "\n",
    "# Define the Generator class\n",
    "class Generator(nn.Module):\n",
    "    def __init__(self, latent_dim, img_shape):\n",
    "        super(Generator, self).__init__()\n",
    "        self.model = nn.Sequential(\n",
    "            nn.Linear(latent_dim, 128),\n",
    "            nn.ReLU(),\n",
    "            nn.Linear(128, 256),\n",
    "            nn.ReLU(),\n",
    "            nn.Linear(256, 512),\n",
    "            nn.ReLU(),\n",
    "            nn.Linear(512, int(torch.prod(torch.tensor(img_shape)))),\n",
    "            nn.Tanh()\n",
    "        )\n",
    "        self.img_shape = img_shape\n",
    "\n",
    "    def forward(self, z):\n",
    "        img = self.model(z)\n",
    "        img = img.view(img.size(0), *self.img_shape)\n",
    "        return img\n",
    "\n",
    "# Define the Classifier class\n",
    "class Classifier(nn.Module):\n",
    "    def __init__(self):\n",
    "        super(Classifier, self).__init__()\n",
    "        self.model = nn.Sequential(\n",
    "            nn.Flatten(),\n",
    "            nn.Linear(28*28, 256),\n",
    "            nn.ReLU(),\n",
    "            nn.Linear(256, 128),\n",
    "            nn.ReLU(),\n",
    "            nn.Linear(128, 10)\n",
    "        )\n",
    "\n",
    "    def forward(self, img):\n",
    "        return self.model(img)\n",
    "\n",
    "# Define the Discriminator class\n",
    "class Discriminator(nn.Module):\n",
    "    def __init__(self):\n",
    "        super(Discriminator, self).__init__()\n",
    "        self.model = nn.Sequential(\n",
    "            nn.Flatten(),\n",
    "            nn.Linear(28*28, 512),\n",
    "            nn.LeakyReLU(0.2),\n",
    "            nn.Linear(512, 256),\n",
    "            nn.LeakyReLU(0.2),\n",
    "            nn.Linear(256, 1),\n",
    "            nn.Sigmoid()\n",
    "        )\n",
    "\n",
    "    def forward(self, img):\n",
    "        return self.model(img)\n",
    "\n",
    "# Hyperparameters\n",
    "latent_dim = 100\n",
    "img_shape = (1, 28, 28)\n",
    "batch_size = 64\n",
    "lr = 0.0002\n",
    "epochs = 50\n",
    "\n",
    "# Load MNIST dataset\n",
    "transform = transforms.Compose([transforms.ToTensor(), transforms.Normalize([0.5], [0.5])])\n",
    "dataset = torchvision.datasets.MNIST(root=\"./data\", train=True, transform=transform, download=True)\n",
    "dataloader = DataLoader(dataset, batch_size=batch_size, shuffle=True)\n",
    "\n",
    "device = torch.device(\"cuda\" if torch.cuda.is_available() else \"cpu\")\n",
    "# Initialize models\n",
    "generator = Generator(latent_dim, img_shape)\n",
    "classifier = Classifier()\n",
    "discriminator = Discriminator()\n",
    "generator.to(device)\n",
    "classifier.to(device)\n",
    "discriminator.to(device)\n",
    "\n",
    "# Optimizers\n",
    "optimizer_G = optim.Adam(generator.parameters(), lr=lr)\n",
    "optimizer_D = optim.Adam(discriminator.parameters(), lr=lr)\n",
    "optimizer_C = optim.Adam(classifier.parameters(), lr=lr)\n",
    "\n",
    "# Loss functions\n",
    "adversarial_loss = nn.BCELoss()\n",
    "classification_loss = nn.CrossEntropyLoss()\n",
    "\n",
    "# Training loop\n",
    "for epoch in range(epochs):\n",
    "    for i, (real_imgs, labels) in enumerate(dataloader):\n",
    "        batch_size = real_imgs.shape[0]\n",
    "        real_labels = torch.ones(batch_size, 1)\n",
    "        fake_labels = torch.zeros(batch_size, 1)\n",
    "\n",
    "        real_imgs = real_imgs.to(device)\n",
    "        labels = labels.to(device)\n",
    "        real_labels = real_labels.to(device)\n",
    "        fake_labels = fake_labels.to(device)\n",
    "\n",
    "\n",
    "        # Train Classifier\n",
    "        optimizer_C.zero_grad()\n",
    "        class_preds = classifier(real_imgs)\n",
    "        c_loss = classification_loss(class_preds, labels)\n",
    "        c_loss.backward()\n",
    "        optimizer_C.step()\n",
    "\n",
    "        # Train Discriminator\n",
    "        optimizer_D.zero_grad()\n",
    "        real_loss = adversarial_loss(discriminator(real_imgs), real_labels)\n",
    "        z = torch.randn(batch_size, latent_dim).to(device)\n",
    "        fake_imgs = generator(z).detach()\n",
    "        fake_loss = adversarial_loss(discriminator(fake_imgs), fake_labels)\n",
    "        d_loss = (real_loss + fake_loss) / 2\n",
    "        d_loss.backward()\n",
    "        optimizer_D.step()\n",
    "\n",
    "        # Train Generator\n",
    "        optimizer_G.zero_grad()\n",
    "        z = torch.randn(batch_size, latent_dim).to(device)\n",
    "        gen_imgs = generator(z)\n",
    "        g_loss_adversarial = adversarial_loss(discriminator(gen_imgs), real_labels)\n",
    "        class_preds_fake = classifier(gen_imgs)\n",
    "        \n",
    "        class_preds_fake_sm = class_preds_fake.softmax(-1)\n",
    "        even = torch.ones_like(class_preds_fake_sm) * 0.1\n",
    "        g_loss_misclassification = (class_preds_fake_sm - even).abs().max()\n",
    "        g_loss = g_loss_adversarial + g_loss_misclassification * 2\n",
    "        g_loss.backward()\n",
    "        optimizer_G.step()\n",
    "\n",
    "    print(f\"Epoch {epoch+1}/{epochs} | D Loss: {d_loss.item():.4f} | G Loss: {g_loss.item():.4f} | C Loss: {c_loss.item():.4f}\")\n"
   ]
  },
  {
   "cell_type": "code",
   "execution_count": 2,
   "metadata": {},
   "outputs": [],
   "source": [
    "\n",
    "# Hyperparameters\n",
    "latent_dim = 100\n",
    "img_shape = (1, 28, 28)\n",
    "batch_size = 128\n",
    "lr = 0.002\n",
    "epochs = 50\n",
    "\n",
    "# Load MNIST dataset\n",
    "transform = transforms.Compose([transforms.ToTensor(), transforms.Normalize([0.5], [0.5])])\n",
    "dataset = torchvision.datasets.MNIST(root=\"./data\", train=True, transform=transform, download=True)\n",
    "dataloader = DataLoader(dataset, batch_size=batch_size, shuffle=True, num_workers=4)\n",
    "\n",
    "# Initialize models\n",
    "generator = Generator(latent_dim, img_shape)\n",
    "classifier = Classifier()\n",
    "discriminator = Discriminator()\n",
    "\n",
    "device = torch.device(\"cuda\" if torch.cuda.is_available() else \"cpu\")\n",
    "generator.to(device)\n",
    "classifier.to(device)\n",
    "discriminator.to(device)\n",
    "\n",
    "\n",
    "# Optimizers\n",
    "optimizer_G = optim.Adam(generator.parameters(), lr=lr)\n",
    "optimizer_D = optim.Adam(discriminator.parameters(), lr=lr)\n",
    "optimizer_C = optim.Adam(classifier.parameters(), lr=lr)\n",
    "\n",
    "# Loss functions\n",
    "adversarial_loss = nn.BCELoss()\n",
    "classification_loss = nn.CrossEntropyLoss()\n"
   ]
  },
  {
   "cell_type": "code",
   "execution_count": 3,
   "metadata": {},
   "outputs": [],
   "source": [
    "import tqdm"
   ]
  },
  {
   "cell_type": "code",
   "execution_count": null,
   "metadata": {},
   "outputs": [],
   "source": []
  },
  {
   "cell_type": "code",
   "execution_count": null,
   "metadata": {},
   "outputs": [
    {
     "name": "stderr",
     "output_type": "stream",
     "text": [
      "13it [00:00, 68.55it/s]"
     ]
    },
    {
     "name": "stdout",
     "output_type": "stream",
     "text": [
      "Epoch 1/50 | D Loss: 0.6767 | G Loss: 0.6099 |\n"
     ]
    },
    {
     "name": "stderr",
     "output_type": "stream",
     "text": [
      "469it [00:09, 51.62it/s]\n",
      "9it [00:00, 42.10it/s]"
     ]
    },
    {
     "name": "stdout",
     "output_type": "stream",
     "text": [
      "Epoch 2/50 | D Loss: 0.0000 | G Loss: 100.0000 |\n"
     ]
    },
    {
     "name": "stderr",
     "output_type": "stream",
     "text": [
      "469it [00:09, 48.65it/s]\n",
      "9it [00:00, 41.89it/s]"
     ]
    },
    {
     "name": "stdout",
     "output_type": "stream",
     "text": [
      "Epoch 3/50 | D Loss: 0.0000 | G Loss: 100.0000 |\n"
     ]
    },
    {
     "name": "stderr",
     "output_type": "stream",
     "text": [
      "469it [00:07, 59.15it/s]\n",
      "7it [00:00, 36.08it/s]"
     ]
    },
    {
     "name": "stdout",
     "output_type": "stream",
     "text": [
      "Epoch 4/50 | D Loss: 0.0000 | G Loss: 100.0000 |\n"
     ]
    },
    {
     "name": "stderr",
     "output_type": "stream",
     "text": [
      "469it [00:09, 50.20it/s]\n",
      "9it [00:00, 42.59it/s]"
     ]
    },
    {
     "name": "stdout",
     "output_type": "stream",
     "text": [
      "Epoch 5/50 | D Loss: 0.0000 | G Loss: 100.0000 |\n"
     ]
    },
    {
     "name": "stderr",
     "output_type": "stream",
     "text": [
      "469it [00:09, 50.79it/s]\n",
      "9it [00:00, 40.19it/s]"
     ]
    },
    {
     "name": "stdout",
     "output_type": "stream",
     "text": [
      "Epoch 6/50 | D Loss: 0.0000 | G Loss: 100.0000 |\n"
     ]
    },
    {
     "name": "stderr",
     "output_type": "stream",
     "text": [
      "469it [00:08, 57.72it/s]\n",
      "9it [00:00, 41.93it/s]"
     ]
    },
    {
     "name": "stdout",
     "output_type": "stream",
     "text": [
      "Epoch 7/50 | D Loss: 0.0000 | G Loss: 100.0000 |\n"
     ]
    },
    {
     "name": "stderr",
     "output_type": "stream",
     "text": [
      "469it [00:09, 49.77it/s]\n",
      "8it [00:00, 36.17it/s]"
     ]
    },
    {
     "name": "stdout",
     "output_type": "stream",
     "text": [
      "Epoch 8/50 | D Loss: 0.0000 | G Loss: 100.0000 |\n"
     ]
    },
    {
     "name": "stderr",
     "output_type": "stream",
     "text": [
      "469it [00:09, 50.03it/s]\n",
      "9it [00:00, 43.31it/s]"
     ]
    },
    {
     "name": "stdout",
     "output_type": "stream",
     "text": [
      "Epoch 9/50 | D Loss: 0.0000 | G Loss: 100.0000 |\n"
     ]
    },
    {
     "name": "stderr",
     "output_type": "stream",
     "text": [
      "469it [00:08, 58.53it/s]\n",
      "8it [00:00, 39.15it/s]"
     ]
    },
    {
     "name": "stdout",
     "output_type": "stream",
     "text": [
      "Epoch 10/50 | D Loss: 0.0000 | G Loss: 100.0000 |\n"
     ]
    },
    {
     "name": "stderr",
     "output_type": "stream",
     "text": [
      "469it [00:09, 49.14it/s]\n",
      "8it [00:00, 39.35it/s]"
     ]
    },
    {
     "name": "stdout",
     "output_type": "stream",
     "text": [
      "Epoch 11/50 | D Loss: 0.0000 | G Loss: 100.0000 |\n"
     ]
    },
    {
     "name": "stderr",
     "output_type": "stream",
     "text": [
      "469it [00:09, 50.06it/s]\n",
      "10it [00:00, 49.40it/s]"
     ]
    },
    {
     "name": "stdout",
     "output_type": "stream",
     "text": [
      "Epoch 12/50 | D Loss: 0.0000 | G Loss: 100.0000 |\n"
     ]
    },
    {
     "name": "stderr",
     "output_type": "stream",
     "text": [
      "469it [00:08, 54.28it/s]\n",
      "8it [00:00, 38.58it/s]"
     ]
    },
    {
     "name": "stdout",
     "output_type": "stream",
     "text": [
      "Epoch 13/50 | D Loss: 0.0000 | G Loss: 100.0000 |\n"
     ]
    },
    {
     "name": "stderr",
     "output_type": "stream",
     "text": [
      "469it [00:09, 47.78it/s]\n",
      "8it [00:00, 37.94it/s]"
     ]
    },
    {
     "name": "stdout",
     "output_type": "stream",
     "text": [
      "Epoch 14/50 | D Loss: 0.0000 | G Loss: 100.0000 |\n"
     ]
    },
    {
     "name": "stderr",
     "output_type": "stream",
     "text": [
      "469it [00:08, 55.02it/s]\n",
      "10it [00:00, 47.10it/s]"
     ]
    },
    {
     "name": "stdout",
     "output_type": "stream",
     "text": [
      "Epoch 15/50 | D Loss: 0.0000 | G Loss: 100.0000 |\n"
     ]
    },
    {
     "name": "stderr",
     "output_type": "stream",
     "text": [
      "469it [00:09, 50.64it/s]\n",
      "9it [00:00, 41.72it/s]"
     ]
    },
    {
     "name": "stdout",
     "output_type": "stream",
     "text": [
      "Epoch 16/50 | D Loss: 0.0000 | G Loss: 100.0000 |\n"
     ]
    },
    {
     "name": "stderr",
     "output_type": "stream",
     "text": [
      "469it [00:09, 49.58it/s]\n",
      "10it [00:00, 46.82it/s]"
     ]
    },
    {
     "name": "stdout",
     "output_type": "stream",
     "text": [
      "Epoch 17/50 | D Loss: 0.0000 | G Loss: 100.0000 |\n"
     ]
    },
    {
     "name": "stderr",
     "output_type": "stream",
     "text": [
      "469it [00:07, 59.24it/s]\n",
      "8it [00:00, 39.49it/s]"
     ]
    },
    {
     "name": "stdout",
     "output_type": "stream",
     "text": [
      "Epoch 18/50 | D Loss: 0.0000 | G Loss: 100.0000 |\n"
     ]
    },
    {
     "name": "stderr",
     "output_type": "stream",
     "text": [
      "469it [00:09, 49.85it/s]\n",
      "8it [00:00, 36.75it/s]"
     ]
    },
    {
     "name": "stdout",
     "output_type": "stream",
     "text": [
      "Epoch 19/50 | D Loss: 0.0000 | G Loss: 100.0000 |\n"
     ]
    },
    {
     "name": "stderr",
     "output_type": "stream",
     "text": [
      "469it [00:09, 50.40it/s]\n",
      "10it [00:00, 44.71it/s]"
     ]
    },
    {
     "name": "stdout",
     "output_type": "stream",
     "text": [
      "Epoch 20/50 | D Loss: 0.0000 | G Loss: 100.0000 |\n"
     ]
    },
    {
     "name": "stderr",
     "output_type": "stream",
     "text": [
      "469it [00:07, 60.91it/s]\n",
      "9it [00:00, 43.00it/s]"
     ]
    },
    {
     "name": "stdout",
     "output_type": "stream",
     "text": [
      "Epoch 21/50 | D Loss: 0.0000 | G Loss: 100.0000 |\n"
     ]
    },
    {
     "name": "stderr",
     "output_type": "stream",
     "text": [
      "469it [00:09, 49.78it/s]\n",
      "8it [00:00, 39.13it/s]"
     ]
    },
    {
     "name": "stdout",
     "output_type": "stream",
     "text": [
      "Epoch 22/50 | D Loss: 0.0000 | G Loss: 100.0000 |\n"
     ]
    },
    {
     "name": "stderr",
     "output_type": "stream",
     "text": [
      "469it [00:09, 48.32it/s]\n",
      "10it [00:00, 47.01it/s]"
     ]
    },
    {
     "name": "stdout",
     "output_type": "stream",
     "text": [
      "Epoch 23/50 | D Loss: 0.0000 | G Loss: 100.0000 |\n"
     ]
    },
    {
     "name": "stderr",
     "output_type": "stream",
     "text": [
      "469it [00:09, 50.32it/s]\n",
      "8it [00:00, 38.43it/s]"
     ]
    },
    {
     "name": "stdout",
     "output_type": "stream",
     "text": [
      "Epoch 24/50 | D Loss: 0.0000 | G Loss: 100.0000 |\n"
     ]
    },
    {
     "name": "stderr",
     "output_type": "stream",
     "text": [
      "469it [00:10, 46.05it/s]\n",
      "10it [00:00, 43.16it/s]"
     ]
    },
    {
     "name": "stdout",
     "output_type": "stream",
     "text": [
      "Epoch 25/50 | D Loss: 0.0000 | G Loss: 100.0000 |\n"
     ]
    },
    {
     "name": "stderr",
     "output_type": "stream",
     "text": [
      "469it [00:09, 49.53it/s]\n",
      "9it [00:00, 46.26it/s]"
     ]
    },
    {
     "name": "stdout",
     "output_type": "stream",
     "text": [
      "Epoch 26/50 | D Loss: 0.0000 | G Loss: 100.0000 |\n"
     ]
    },
    {
     "name": "stderr",
     "output_type": "stream",
     "text": [
      "469it [00:08, 56.33it/s]\n",
      "8it [00:00, 38.28it/s]"
     ]
    },
    {
     "name": "stdout",
     "output_type": "stream",
     "text": [
      "Epoch 27/50 | D Loss: 0.0000 | G Loss: 100.0000 |\n"
     ]
    },
    {
     "name": "stderr",
     "output_type": "stream",
     "text": [
      "264it [00:05, 47.52it/s]\n"
     ]
    },
    {
     "ename": "KeyboardInterrupt",
     "evalue": "",
     "output_type": "error",
     "traceback": [
      "\u001b[0;31m---------------------------------------------------------------------------\u001b[0m",
      "\u001b[0;31mKeyboardInterrupt\u001b[0m                         Traceback (most recent call last)",
      "Cell \u001b[0;32mIn[7], line 28\u001b[0m\n\u001b[1;32m     26\u001b[0m fake_loss \u001b[38;5;241m=\u001b[39m adversarial_loss(discriminator(fake_imgs), fake_labels)\n\u001b[1;32m     27\u001b[0m d_loss \u001b[38;5;241m=\u001b[39m (real_loss \u001b[38;5;241m+\u001b[39m fake_loss) \u001b[38;5;241m/\u001b[39m \u001b[38;5;241m2\u001b[39m\n\u001b[0;32m---> 28\u001b[0m \u001b[43md_loss\u001b[49m\u001b[38;5;241;43m.\u001b[39;49m\u001b[43mbackward\u001b[49m\u001b[43m(\u001b[49m\u001b[43m)\u001b[49m\n\u001b[1;32m     29\u001b[0m optimizer_D\u001b[38;5;241m.\u001b[39mstep()\n\u001b[1;32m     31\u001b[0m \u001b[38;5;66;03m# Train Generator\u001b[39;00m\n",
      "File \u001b[0;32m~/anaconda3/lib/python3.12/site-packages/torch/_tensor.py:581\u001b[0m, in \u001b[0;36mTensor.backward\u001b[0;34m(self, gradient, retain_graph, create_graph, inputs)\u001b[0m\n\u001b[1;32m    571\u001b[0m \u001b[38;5;28;01mif\u001b[39;00m has_torch_function_unary(\u001b[38;5;28mself\u001b[39m):\n\u001b[1;32m    572\u001b[0m     \u001b[38;5;28;01mreturn\u001b[39;00m handle_torch_function(\n\u001b[1;32m    573\u001b[0m         Tensor\u001b[38;5;241m.\u001b[39mbackward,\n\u001b[1;32m    574\u001b[0m         (\u001b[38;5;28mself\u001b[39m,),\n\u001b[0;32m   (...)\u001b[0m\n\u001b[1;32m    579\u001b[0m         inputs\u001b[38;5;241m=\u001b[39minputs,\n\u001b[1;32m    580\u001b[0m     )\n\u001b[0;32m--> 581\u001b[0m \u001b[43mtorch\u001b[49m\u001b[38;5;241;43m.\u001b[39;49m\u001b[43mautograd\u001b[49m\u001b[38;5;241;43m.\u001b[39;49m\u001b[43mbackward\u001b[49m\u001b[43m(\u001b[49m\n\u001b[1;32m    582\u001b[0m \u001b[43m    \u001b[49m\u001b[38;5;28;43mself\u001b[39;49m\u001b[43m,\u001b[49m\u001b[43m \u001b[49m\u001b[43mgradient\u001b[49m\u001b[43m,\u001b[49m\u001b[43m \u001b[49m\u001b[43mretain_graph\u001b[49m\u001b[43m,\u001b[49m\u001b[43m \u001b[49m\u001b[43mcreate_graph\u001b[49m\u001b[43m,\u001b[49m\u001b[43m \u001b[49m\u001b[43minputs\u001b[49m\u001b[38;5;241;43m=\u001b[39;49m\u001b[43minputs\u001b[49m\n\u001b[1;32m    583\u001b[0m \u001b[43m\u001b[49m\u001b[43m)\u001b[49m\n",
      "File \u001b[0;32m~/anaconda3/lib/python3.12/site-packages/torch/autograd/__init__.py:347\u001b[0m, in \u001b[0;36mbackward\u001b[0;34m(tensors, grad_tensors, retain_graph, create_graph, grad_variables, inputs)\u001b[0m\n\u001b[1;32m    342\u001b[0m     retain_graph \u001b[38;5;241m=\u001b[39m create_graph\n\u001b[1;32m    344\u001b[0m \u001b[38;5;66;03m# The reason we repeat the same comment below is that\u001b[39;00m\n\u001b[1;32m    345\u001b[0m \u001b[38;5;66;03m# some Python versions print out the first line of a multi-line function\u001b[39;00m\n\u001b[1;32m    346\u001b[0m \u001b[38;5;66;03m# calls in the traceback and some print out the last line\u001b[39;00m\n\u001b[0;32m--> 347\u001b[0m \u001b[43m_engine_run_backward\u001b[49m\u001b[43m(\u001b[49m\n\u001b[1;32m    348\u001b[0m \u001b[43m    \u001b[49m\u001b[43mtensors\u001b[49m\u001b[43m,\u001b[49m\n\u001b[1;32m    349\u001b[0m \u001b[43m    \u001b[49m\u001b[43mgrad_tensors_\u001b[49m\u001b[43m,\u001b[49m\n\u001b[1;32m    350\u001b[0m \u001b[43m    \u001b[49m\u001b[43mretain_graph\u001b[49m\u001b[43m,\u001b[49m\n\u001b[1;32m    351\u001b[0m \u001b[43m    \u001b[49m\u001b[43mcreate_graph\u001b[49m\u001b[43m,\u001b[49m\n\u001b[1;32m    352\u001b[0m \u001b[43m    \u001b[49m\u001b[43minputs\u001b[49m\u001b[43m,\u001b[49m\n\u001b[1;32m    353\u001b[0m \u001b[43m    \u001b[49m\u001b[43mallow_unreachable\u001b[49m\u001b[38;5;241;43m=\u001b[39;49m\u001b[38;5;28;43;01mTrue\u001b[39;49;00m\u001b[43m,\u001b[49m\n\u001b[1;32m    354\u001b[0m \u001b[43m    \u001b[49m\u001b[43maccumulate_grad\u001b[49m\u001b[38;5;241;43m=\u001b[39;49m\u001b[38;5;28;43;01mTrue\u001b[39;49;00m\u001b[43m,\u001b[49m\n\u001b[1;32m    355\u001b[0m \u001b[43m\u001b[49m\u001b[43m)\u001b[49m\n",
      "File \u001b[0;32m~/anaconda3/lib/python3.12/site-packages/torch/autograd/graph.py:825\u001b[0m, in \u001b[0;36m_engine_run_backward\u001b[0;34m(t_outputs, *args, **kwargs)\u001b[0m\n\u001b[1;32m    823\u001b[0m     unregister_hooks \u001b[38;5;241m=\u001b[39m _register_logging_hooks_on_whole_graph(t_outputs)\n\u001b[1;32m    824\u001b[0m \u001b[38;5;28;01mtry\u001b[39;00m:\n\u001b[0;32m--> 825\u001b[0m     \u001b[38;5;28;01mreturn\u001b[39;00m \u001b[43mVariable\u001b[49m\u001b[38;5;241;43m.\u001b[39;49m\u001b[43m_execution_engine\u001b[49m\u001b[38;5;241;43m.\u001b[39;49m\u001b[43mrun_backward\u001b[49m\u001b[43m(\u001b[49m\u001b[43m  \u001b[49m\u001b[38;5;66;43;03m# Calls into the C++ engine to run the backward pass\u001b[39;49;00m\n\u001b[1;32m    826\u001b[0m \u001b[43m        \u001b[49m\u001b[43mt_outputs\u001b[49m\u001b[43m,\u001b[49m\u001b[43m \u001b[49m\u001b[38;5;241;43m*\u001b[39;49m\u001b[43margs\u001b[49m\u001b[43m,\u001b[49m\u001b[43m \u001b[49m\u001b[38;5;241;43m*\u001b[39;49m\u001b[38;5;241;43m*\u001b[39;49m\u001b[43mkwargs\u001b[49m\n\u001b[1;32m    827\u001b[0m \u001b[43m    \u001b[49m\u001b[43m)\u001b[49m  \u001b[38;5;66;03m# Calls into the C++ engine to run the backward pass\u001b[39;00m\n\u001b[1;32m    828\u001b[0m \u001b[38;5;28;01mfinally\u001b[39;00m:\n\u001b[1;32m    829\u001b[0m     \u001b[38;5;28;01mif\u001b[39;00m attach_logging_hooks:\n",
      "\u001b[0;31mKeyboardInterrupt\u001b[0m: "
     ]
    }
   ],
   "source": [
    "\n",
    "# Training loop\n",
    "for epoch in range(epochs):\n",
    "    for i, (real_imgs, labels) in tqdm.tqdm(enumerate(dataloader)):\n",
    "        batch_size = real_imgs.shape[0]\n",
    "        real_labels = torch.ones(batch_size, 1)\n",
    "        fake_labels = torch.zeros(batch_size, 1)\n",
    "\n",
    "        real_imgs = real_imgs.to(device)\n",
    "        labels = labels.to(device)\n",
    "        real_labels = real_labels.to(device)\n",
    "        fake_labels = fake_labels.to(device)\n",
    "        \n",
    "\n",
    "        # # Train Classifier\n",
    "        # optimizer_C.zero_grad()\n",
    "        # class_preds = classifier(real_imgs)\n",
    "        # c_loss = classification_loss(class_preds, labels)\n",
    "        # c_loss.backward()\n",
    "        # optimizer_C.step()\n",
    "\n",
    "        # Train Discriminator\n",
    "        optimizer_D.zero_grad()\n",
    "        real_loss = adversarial_loss(discriminator(real_imgs), real_labels)\n",
    "        z = torch.randn(batch_size, latent_dim).to(device)\n",
    "        fake_imgs = generator(z).detach()\n",
    "        fake_loss = adversarial_loss(discriminator(fake_imgs), fake_labels)\n",
    "        d_loss = (real_loss + fake_loss) / 2\n",
    "        d_loss.backward()\n",
    "        optimizer_D.step()\n",
    "\n",
    "        # Train Generator\n",
    "        optimizer_G.zero_grad()\n",
    "        z = torch.randn(batch_size, latent_dim).to(device)\n",
    "        gen_imgs = generator(z)\n",
    "        g_loss_adversarial = adversarial_loss(discriminator(gen_imgs), real_labels)\n",
    "        class_preds_fake = classifier(gen_imgs)\n",
    "        # g_loss_misclassification = class_preds_fake.std(-1).mean()\n",
    "        class_preds_fake_sm = class_preds_fake.softmax(-1)\n",
    "        # dist to uniform\n",
    "        even = torch.ones_like(class_preds_fake_sm) * 0.1\n",
    "        g_loss_misclassification = (class_preds_fake_sm - even).abs().max()\n",
    "        g_loss = g_loss_adversarial# + g_loss_misclassification * 2\n",
    "        g_loss.backward()\n",
    "        optimizer_G.step()\n",
    "\n",
    "        if i % 500 == 0:\n",
    "            print(f\"Epoch {epoch+1}/{epochs} | D Loss: {d_loss.item():.4f} | G Loss: {g_loss.item():.4f} |\")\n",
    "\n",
    "        \n"
   ]
  },
  {
   "cell_type": "code",
   "execution_count": 103,
   "metadata": {},
   "outputs": [
    {
     "data": {
      "text/plain": [
       "tensor(0.0127, device='cuda:0', grad_fn=<BinaryCrossEntropyBackward0>)"
      ]
     },
     "execution_count": 103,
     "metadata": {},
     "output_type": "execute_result"
    }
   ],
   "source": [
    "g_loss_adversarial"
   ]
  },
  {
   "cell_type": "code",
   "execution_count": 34,
   "metadata": {},
   "outputs": [
    {
     "data": {
      "text/plain": [
       "tensor([1.3334e-14, 9.9997e-01, 2.5651e-13, 3.8565e-07, 3.4910e-07, 2.3707e-11,\n",
       "        2.1518e-09, 8.2955e-08, 2.5312e-05, 1.2578e-13], device='cuda:0',\n",
       "       grad_fn=<SelectBackward0>)"
      ]
     },
     "execution_count": 34,
     "metadata": {},
     "output_type": "execute_result"
    }
   ],
   "source": [
    "class_preds_fake_sm[9]"
   ]
  },
  {
   "cell_type": "code",
   "execution_count": 33,
   "metadata": {},
   "outputs": [
    {
     "data": {
      "application/vnd.plotly.v1+json": {
       "config": {
        "plotlyServerURL": "https://plot.ly"
       },
       "data": [
        {
         "coloraxis": "coloraxis",
         "hovertemplate": "x: %{x}<br>y: %{y}<br>color: %{z}<extra></extra>",
         "name": "0",
         "type": "heatmap",
         "xaxis": "x",
         "yaxis": "y",
         "z": [
          [
           -0.014859231188893318,
           -0.9997597932815552,
           -0.9918147325515747,
           -0.9999940991401672,
           -0.999909520149231,
           -0.9999982714653015,
           -0.9991072416305542,
           -0.9999977350234985,
           -0.9997738003730774,
           -0.9996075630187988,
           -0.9878809452056885,
           -0.9999949336051941,
           -0.9999887347221375,
           -0.9999837875366211,
           -0.9997646808624268,
           -0.9998955726623535,
           -0.9999366402626038,
           -0.9951349496841431,
           -0.999957263469696,
           0.30508682131767273,
           -0.9848967790603638,
           -0.9994962215423584,
           -0.9988802075386047,
           -0.9999309182167053,
           -0.9999948740005493,
           -0.9080380797386169,
           -0.9982040524482727,
           -0.999755322933197
          ],
          [
           -0.9999871850013733,
           -0.9986267685890198,
           -0.9998194575309753,
           -0.9999566674232483,
           -0.9998183846473694,
           -0.9998679161071777,
           -0.9999844431877136,
           -0.9999856352806091,
           -0.9994931817054749,
           -0.9663927555084229,
           -0.9999996423721313,
           -0.9999479651451111,
           -0.9996351003646851,
           -0.999864935874939,
           -0.9987911581993103,
           -0.3205944895744324,
           -0.9996679425239563,
           -0.9999465346336365,
           -0.9999924898147583,
           -0.9978437423706055,
           -0.9999422430992126,
           -0.9999514222145081,
           -0.9980676770210266,
           -0.9999964833259583,
           -0.9999932050704956,
           -0.9996727108955383,
           -0.9990966320037842,
           -0.9999962449073792
          ],
          [
           -0.9999949336051941,
           -0.999880313873291,
           -0.9999415874481201,
           -0.9999855756759644,
           -0.9998341202735901,
           -0.9999997615814209,
           -0.9999751448631287,
           -0.9998133182525635,
           -0.9992241859436035,
           -0.996366024017334,
           -0.999998152256012,
           -0.9996801614761353,
           -0.9922443628311157,
           -0.9999983310699463,
           -0.9999256730079651,
           -0.9999917149543762,
           -0.9933737516403198,
           -0.9999900460243225,
           -0.9999987483024597,
           -0.9994938373565674,
           -0.9999961256980896,
           -0.9999884963035583,
           -0.9996384382247925,
           -0.9976020455360413,
           -0.9997026920318604,
           -0.9999893307685852,
           -0.9999046325683594,
           -0.9681412577629089
          ],
          [
           -0.9999982714653015,
           -0.9868056178092957,
           -0.9999192357063293,
           -0.9999287724494934,
           -0.999833881855011,
           -0.9968224167823792,
           -0.9990696310997009,
           -0.9996989369392395,
           -0.9999762177467346,
           -0.9936109781265259,
           -0.9997928738594055,
           0.22438891232013702,
           -0.9989632368087769,
           -0.999948263168335,
           -0.9999881982803345,
           -0.9997907876968384,
           -0.9952482581138611,
           -0.9999351501464844,
           0.4104015529155731,
           -0.9948278069496155,
           -0.9986542463302612,
           -0.9999831318855286,
           -0.8942933082580566,
           -0.999994695186615,
           -0.9999199509620667,
           -0.9999696016311646,
           -0.9999754428863525,
           -0.9996264576911926
          ],
          [
           -0.999994158744812,
           -0.999450147151947,
           -0.9999105334281921,
           -0.9991548657417297,
           -0.9982683658599854,
           -0.9999740719795227,
           -0.9999971389770508,
           -0.9993048310279846,
           -0.9030773639678955,
           -0.8684400916099548,
           -0.8536412715911865,
           -0.9133763909339905,
           -0.9881777167320251,
           0.21191293001174927,
           -0.9937787055969238,
           -0.990939199924469,
           -0.9951134920120239,
           -0.8401716947555542,
           -0.9979271292686462,
           -0.9703735709190369,
           -0.9998902082443237,
           -0.9997962117195129,
           -0.9991456866264343,
           -0.9999157190322876,
           -0.9999857544898987,
           -0.9999308586120605,
           -0.9999665021896362,
           -0.9999277591705322
          ],
          [
           -0.9962102174758911,
           -0.9941844940185547,
           -0.8140556812286377,
           -0.7782355546951294,
           -0.9999732375144958,
           -0.9948234558105469,
           -0.9999403953552246,
           -0.9574601054191589,
           -0.4382547438144684,
           0.6387863755226135,
           -0.4812571406364441,
           0.490466833114624,
           -0.14321860671043396,
           0.8582035303115845,
           -0.5686731338500977,
           0.4737871289253235,
           0.4012453854084015,
           -0.7852505445480347,
           -0.9319397807121277,
           -0.9717149138450623,
           -0.9728679656982422,
           -0.9092333912849426,
           -0.9997410774230957,
           -0.9950645565986633,
           -0.9930834174156189,
           -0.9998863935470581,
           -0.9999876618385315,
           -0.9991496801376343
          ],
          [
           -0.9983065128326416,
           -0.9954262375831604,
           -0.9999074935913086,
           -0.9972637295722961,
           -0.9983479976654053,
           -0.9997483491897583,
           -0.9930545091629028,
           -0.9498016238212585,
           -0.9943900108337402,
           0.4610086679458618,
           -0.19214420020580292,
           0.751662015914917,
           -0.42348167300224304,
           -0.14748376607894897,
           -0.0835193619132042,
           0.5222377777099609,
           0.2710636854171753,
           -0.9484623670578003,
           -0.9971687197685242,
           -0.9978445172309875,
           -0.9670681953430176,
           -0.9990115165710449,
           -0.9876746535301208,
           -0.9958438277244568,
           -0.9965521097183228,
           -0.9868531227111816,
           -0.9999992847442627,
           -0.999224841594696
          ],
          [
           -0.9847397804260254,
           -0.9999746084213257,
           -0.999971330165863,
           -0.9998675584793091,
           -0.9999542832374573,
           -0.9952095150947571,
           -0.9815849661827087,
           -0.9969698190689087,
           -0.9632049202919006,
           -0.9979588985443115,
           -0.9629693627357483,
           -0.9190676808357239,
           -0.8949227929115295,
           -0.9975247383117676,
           -0.9639557600021362,
           -0.9358031749725342,
           -0.6412003040313721,
           -0.9368292689323425,
           -0.9982185959815979,
           -0.9953662157058716,
           -0.9985737204551697,
           -0.998886227607727,
           -0.999755322933197,
           -0.9996265172958374,
           -0.9991516470909119,
           -0.9997121691703796,
           -0.9999987483024597,
           -0.9999712109565735
          ],
          [
           -0.9999815821647644,
           -0.9992210268974304,
           -0.9999222755432129,
           -0.99980628490448,
           -0.9998472332954407,
           -0.9834238886833191,
           -0.9998447299003601,
           -0.9995682239532471,
           -0.9899967312812805,
           -0.9888140559196472,
           -0.9372284412384033,
           -0.9998332262039185,
           -0.9999125599861145,
           -0.9995585680007935,
           -0.9991658329963684,
           -0.9221637845039368,
           -0.9772102236747742,
           -0.9690908193588257,
           -0.9910939931869507,
           -0.9243431091308594,
           -0.9996405243873596,
           -0.9912141561508179,
           -0.9999555945396423,
           -0.9997770190238953,
           -0.9928207993507385,
           -0.9763450026512146,
           -0.999002993106842,
           -0.9997977614402771
          ],
          [
           -0.9949171543121338,
           -0.9999634027481079,
           -0.9998748302459717,
           -0.9999889731407166,
           -0.9440494179725647,
           -0.9954600930213928,
           -0.9997178912162781,
           -0.9985573887825012,
           -0.9968456625938416,
           -0.9999250769615173,
           -0.9995256662368774,
           -0.9825617671012878,
           -0.9977306723594666,
           -0.9828891158103943,
           -0.9520339965820312,
           -0.9196392297744751,
           -0.9965535998344421,
           -0.9999058842658997,
           -0.9998889565467834,
           -0.9968090653419495,
           -0.999852180480957,
           -0.9999753832817078,
           -0.999657392501831,
           -0.9999962449073792,
           -0.9999997019767761,
           -0.9889211654663086,
           -0.9998940825462341,
           -0.999986469745636
          ],
          [
           -0.9682106971740723,
           -0.9999804496765137,
           -0.9997687339782715,
           -0.999873697757721,
           -0.9987687468528748,
           -0.9998201131820679,
           -0.999828040599823,
           -0.9999962449073792,
           -0.9997974038124084,
           -0.997636079788208,
           -0.9933621883392334,
           -0.7079074382781982,
           -0.40462055802345276,
           -0.8904082775115967,
           -0.45256486535072327,
           -0.9569410085678101,
           -0.9841939806938171,
           -0.9997303485870361,
           -0.9999295473098755,
           -0.9999790787696838,
           -0.9986919164657593,
           -0.9999043941497803,
           -0.9999960064888,
           -0.9999982118606567,
           -0.9999622702598572,
           -0.9999938607215881,
           -0.9999167323112488,
           -0.9999725222587585
          ],
          [
           -0.9999538660049438,
           -0.9770078659057617,
           -0.9766479134559631,
           -0.9796192646026611,
           -0.9861717820167542,
           -0.9996802806854248,
           -0.9994567632675171,
           -0.9999988675117493,
           -0.9999879002571106,
           -0.9993592500686646,
           -0.8312707543373108,
           -0.6076946258544922,
           0.9063355922698975,
           0.759408175945282,
           0.19869521260261536,
           -0.9925039410591125,
           -0.9940257668495178,
           -0.9985002875328064,
           -0.9997684359550476,
           -0.9999719858169556,
           -0.9999776482582092,
           -0.9999915957450867,
           -0.9999999403953552,
           -0.9999995827674866,
           -0.9999983310699463,
           -0.9899628162384033,
           -0.9994394183158875,
           -0.9995105862617493
          ],
          [
           -0.9994529485702515,
           -0.9997943639755249,
           -0.9999653697013855,
           -0.9978662729263306,
           -0.9997140169143677,
           -0.999717652797699,
           -0.9999973177909851,
           -0.9999983310699463,
           -0.9992808103561401,
           -0.997326135635376,
           -0.8558576107025146,
           0.8430378437042236,
           0.9960265159606934,
           0.991825520992279,
           0.42228540778160095,
           -0.9421434998512268,
           -0.9957376718521118,
           -0.9988549947738647,
           -0.9998209476470947,
           -0.9999903440475464,
           -0.9997449517250061,
           -0.9999895095825195,
           -0.9999887347221375,
           -0.9999979734420776,
           -0.9999989867210388,
           -0.9999997615814209,
           -0.9999052882194519,
           -0.9999938011169434
          ],
          [
           -0.9998775124549866,
           -0.9998580813407898,
           -0.9996654391288757,
           -0.9999843239784241,
           -0.9999615550041199,
           -0.9999757409095764,
           -0.9999972581863403,
           -0.9999885559082031,
           -0.9999829530715942,
           -0.9597110748291016,
           -0.787765383720398,
           0.8268694877624512,
           0.9255968332290649,
           -0.23112598061561584,
           -0.7976205945014954,
           -0.9354127049446106,
           -0.5349894165992737,
           -0.8788449168205261,
           -0.98464035987854,
           -0.9999793171882629,
           -0.9998989701271057,
           -0.9997331500053406,
           -0.9999979138374329,
           -0.9999998211860657,
           -0.9999867081642151,
           -0.9997342824935913,
           -0.997006893157959,
           -0.9999346137046814
          ],
          [
           -0.9999985694885254,
           -0.9971315264701843,
           -0.9997144341468811,
           -0.9883213639259338,
           -0.9999608397483826,
           -0.9999720454216003,
           -0.9999684691429138,
           -0.9999995827674866,
           -0.9999973773956299,
           -0.9997774958610535,
           -0.9980520606040955,
           -0.9828575849533081,
           -0.9848496317863464,
           -0.995352566242218,
           -0.9959019422531128,
           0.6100198030471802,
           0.8977692127227783,
           0.8461259603500366,
           -0.906975507736206,
           -0.9841433167457581,
           -0.9993458390235901,
           -0.9999950528144836,
           -0.9998650550842285,
           -0.9995134472846985,
           -0.9999950528144836,
           -0.9991785287857056,
           -0.9995257258415222,
           -0.9999743700027466
          ],
          [
           -0.9999781847000122,
           -0.9999415278434753,
           -0.9996572136878967,
           -0.9938987493515015,
           -0.9571812748908997,
           -0.9999512434005737,
           -0.9999998807907104,
           -0.9999973177909851,
           -0.9999935030937195,
           -0.9985681772232056,
           -0.9998629689216614,
           -0.9953284859657288,
           -0.9978864192962646,
           -0.999877393245697,
           -0.954307496547699,
           0.6458431482315063,
           0.3029024600982666,
           0.9829859733581543,
           -0.4583764672279358,
           -0.7322245240211487,
           -0.9898391962051392,
           -0.9997043013572693,
           -0.9999988079071045,
           -0.999984622001648,
           -0.9999935626983643,
           -0.9999349117279053,
           -0.999988853931427,
           -0.9995163679122925
          ],
          [
           -0.9991390109062195,
           -0.9999997019767761,
           -0.999947190284729,
           -0.9985338449478149,
           -0.9993571639060974,
           -0.9999861717224121,
           -0.9999991059303284,
           -0.9999998807907104,
           -0.9999954104423523,
           -0.9976138472557068,
           -0.9997662901878357,
           -0.9900171160697937,
           -0.999768078327179,
           -0.9998387098312378,
           -0.9970479011535645,
           -0.9964367747306824,
           0.028237363323569298,
           0.15900057554244995,
           0.9824205040931702,
           -0.6152206659317017,
           -0.9995293021202087,
           -0.9999738335609436,
           -0.9998975992202759,
           -0.9999945759773254,
           -0.999997615814209,
           -0.9999943971633911,
           -0.9999670386314392,
           -0.9999990463256836
          ],
          [
           -0.999994695186615,
           -0.9999976754188538,
           -0.999858558177948,
           -0.9932750463485718,
           -0.9999132752418518,
           -0.9995318651199341,
           -0.99995356798172,
           -0.9999991059303284,
           -0.9999999403953552,
           -0.9998676180839539,
           -0.9987170100212097,
           -0.9997413754463196,
           -0.9998511672019958,
           -0.999843955039978,
           -0.9998174905776978,
           -0.9974406361579895,
           -0.40186724066734314,
           0.9858339428901672,
           0.8191716074943542,
           0.681979775428772,
           -0.8500301241874695,
           -0.9998666048049927,
           -0.9996677041053772,
           -0.9998825788497925,
           -0.9999724626541138,
           -0.9999572038650513,
           -0.9998136758804321,
           -0.999935507774353
          ],
          [
           -0.9990010261535645,
           -0.9986321926116943,
           -0.9999868869781494,
           -0.8430062532424927,
           -0.998902440071106,
           -0.9996882081031799,
           -0.9999818801879883,
           -0.9991593956947327,
           -0.9999766945838928,
           -0.9990241527557373,
           -0.9878227114677429,
           -0.9915184378623962,
           -0.9957283735275269,
           -0.9999841451644897,
           -0.999991774559021,
           -0.999817967414856,
           -0.982318103313446,
           0.5903300046920776,
           0.9957234859466553,
           0.9505440592765808,
           -0.9622473120689392,
           -0.9995498061180115,
           -0.9999730587005615,
           -0.9999427199363708,
           -0.9999728202819824,
           -0.9986737370491028,
           -0.9999948740005493,
           -0.999973475933075
          ],
          [
           -0.9998173713684082,
           -0.9999645948410034,
           -0.9999517798423767,
           -0.9968963265419006,
           -0.9987823367118835,
           -0.9999554753303528,
           -0.9980366826057434,
           -0.9997870922088623,
           -0.9993931651115417,
           -0.9637325406074524,
           -0.9996365904808044,
           -0.9991627931594849,
           -0.99982750415802,
           -0.9999980926513672,
           -0.9999979734420776,
           -0.9999759793281555,
           -0.9933035373687744,
           0.6204218864440918,
           0.7406699657440186,
           -0.710339367389679,
           -0.9334905743598938,
           -0.999737560749054,
           -0.9999801516532898,
           -0.999994158744812,
           -0.9998438954353333,
           -0.9998031854629517,
           -0.9999843239784241,
           -0.9999756813049316
          ],
          [
           -0.9993289709091187,
           -0.9986547827720642,
           -0.996180534362793,
           -0.9999786615371704,
           -0.9975823760032654,
           -0.9979571104049683,
           -0.9993383884429932,
           -0.9983236193656921,
           -0.9994107484817505,
           -0.9983840584754944,
           -0.9944694638252258,
           -0.999667763710022,
           -0.9999722838401794,
           -0.9999974370002747,
           -0.999767005443573,
           -0.9995471239089966,
           -0.21459166705608368,
           -0.0077690668404102325,
           0.25267621874809265,
           -0.9792191386222839,
           -0.9979510307312012,
           -0.9999171495437622,
           -0.9993152618408203,
           -0.9999528527259827,
           -0.9998443126678467,
           -0.9964441061019897,
           -0.9999728202819824,
           -0.9999411106109619
          ],
          [
           -0.9998973608016968,
           -0.6801958084106445,
           -0.9995887875556946,
           -0.9991135597229004,
           -0.9997228384017944,
           -0.9989415407180786,
           -0.9988187551498413,
           -0.9899816513061523,
           -0.9989601969718933,
           -0.7427907586097717,
           -0.5976975560188293,
           -0.4267388582229614,
           -0.9971134066581726,
           -0.9999364018440247,
           -0.9781359434127808,
           -0.892209529876709,
           -0.5884679555892944,
           0.4895116686820984,
           -0.9125440120697021,
           -0.729526162147522,
           -0.9975186586380005,
           -0.999934196472168,
           -0.9990285634994507,
           -0.9999311566352844,
           -0.9998834133148193,
           -0.9999935030937195,
           -0.9999967217445374,
           -0.9999666213989258
          ],
          [
           -0.9999603033065796,
           -0.9999613761901855,
           -0.9999518990516663,
           -0.9996676445007324,
           -0.9996151924133301,
           -0.9999436140060425,
           -0.9994282722473145,
           -0.9100394248962402,
           -0.995783805847168,
           -0.26245155930519104,
           0.47511446475982666,
           -0.41095712780952454,
           -0.716437816619873,
           -0.48952484130859375,
           -0.2486879676580429,
           0.6453964710235596,
           -0.655116617679596,
           -0.8375799059867859,
           -0.7890824675559998,
           -0.9807159900665283,
           -0.9896252751350403,
           -0.9995254874229431,
           -0.9999642968177795,
           -0.9999661445617676,
           -0.9990434646606445,
           -0.9977833032608032,
           -0.9999180436134338,
           -0.9879294633865356
          ],
          [
           -0.9995018243789673,
           -0.9999992251396179,
           -0.9968416094779968,
           -0.9999763369560242,
           -0.9997369050979614,
           -0.99971604347229,
           -0.9997252821922302,
           -0.9992896318435669,
           -0.9709370136260986,
           -0.8411954045295715,
           0.8839079737663269,
           0.8355571031570435,
           0.9740735292434692,
           0.9959193468093872,
           0.850494921207428,
           -0.6051117181777954,
           -0.9813104867935181,
           -0.6636483669281006,
           -0.9763409495353699,
           -0.9711723923683167,
           -0.9999494552612305,
           -0.9999653697013855,
           -0.9996198415756226,
           -0.9999849796295166,
           -0.9998875260353088,
           -0.9991883635520935,
           -0.9999943375587463,
           -0.9957858920097351
          ],
          [
           -0.993416428565979,
           -0.999153733253479,
           -0.9998487234115601,
           -0.9998982548713684,
           -0.9999314546585083,
           -0.9985122680664062,
           -0.9918679594993591,
           -0.8715833425521851,
           -0.9987388253211975,
           -0.9310095906257629,
           -0.10161441564559937,
           -0.3216717839241028,
           0.4613238275051117,
           0.15630057454109192,
           -0.8489211797714233,
           -0.9898062944412231,
           -0.9984399080276489,
           -0.9978893995285034,
           -0.9421622157096863,
           -0.9691780805587769,
           -0.999718964099884,
           -0.9999810457229614,
           -0.9994680285453796,
           -0.9993411302566528,
           -0.9999937415122986,
           -0.999294638633728,
           -0.9999662041664124,
           -0.9999986886978149
          ],
          [
           -0.9997572898864746,
           -0.9990026950836182,
           -0.9934150576591492,
           -0.9999855756759644,
           -0.9990019798278809,
           -0.9999701976776123,
           -0.9999989867210388,
           -0.982149064540863,
           -0.999991774559021,
           -0.9943540692329407,
           -0.9785747528076172,
           -0.7911438345909119,
           -0.9995875954627991,
           -0.9999711513519287,
           -0.9996926784515381,
           -0.9999996423721313,
           -0.9999932050704956,
           -0.9983167052268982,
           -0.999683141708374,
           -0.9996927380561829,
           -0.9992555975914001,
           -0.9990770220756531,
           -0.9992790818214417,
           -0.9999969005584717,
           -0.9999465942382812,
           -0.9988962411880493,
           -0.9999114274978638,
           -0.9999414682388306
          ],
          [
           -0.9967328310012817,
           -0.9998698234558105,
           -0.9999914169311523,
           -0.9999703764915466,
           -0.9999812245368958,
           -0.999987781047821,
           -0.9999833106994629,
           -0.993510365486145,
           -0.9999943375587463,
           -0.9999274611473083,
           -0.9999563097953796,
           -0.9972928166389465,
           -0.9989957213401794,
           -0.999948263168335,
           -0.9999592900276184,
           -0.9957128763198853,
           -0.9999240040779114,
           -0.9999772310256958,
           -0.9962196350097656,
           -0.9999991059303284,
           -0.999998152256012,
           -0.9999793171882629,
           -0.9996955394744873,
           -0.9983194470405579,
           -0.9997239708900452,
           -0.9993907809257507,
           -0.9947237968444824,
           -0.99946129322052
          ],
          [
           -0.999965488910675,
           -0.999773383140564,
           -0.9997712969779968,
           -0.9998950362205505,
           -0.9999579191207886,
           -0.9999741315841675,
           -0.982841968536377,
           -0.9999682307243347,
           -0.9141994714736938,
           -0.9980916380882263,
           -0.9995591640472412,
           -0.996016263961792,
           -0.9998754858970642,
           -0.9994719624519348,
           -0.959610104560852,
           -0.999950647354126,
           -0.9999947547912598,
           -0.999954104423523,
           -0.9999971389770508,
           -0.999396026134491,
           -0.9999752640724182,
           -0.9993215203285217,
           -0.9998947978019714,
           -0.9994701147079468,
           -0.9805099368095398,
           -0.8722597360610962,
           -0.9999626278877258,
           -0.9999997615814209
          ]
         ]
        }
       ],
       "layout": {
        "coloraxis": {
         "colorscale": [
          [
           0,
           "#0d0887"
          ],
          [
           0.1111111111111111,
           "#46039f"
          ],
          [
           0.2222222222222222,
           "#7201a8"
          ],
          [
           0.3333333333333333,
           "#9c179e"
          ],
          [
           0.4444444444444444,
           "#bd3786"
          ],
          [
           0.5555555555555556,
           "#d8576b"
          ],
          [
           0.6666666666666666,
           "#ed7953"
          ],
          [
           0.7777777777777778,
           "#fb9f3a"
          ],
          [
           0.8888888888888888,
           "#fdca26"
          ],
          [
           1,
           "#f0f921"
          ]
         ]
        },
        "margin": {
         "t": 60
        },
        "template": {
         "data": {
          "bar": [
           {
            "error_x": {
             "color": "#2a3f5f"
            },
            "error_y": {
             "color": "#2a3f5f"
            },
            "marker": {
             "line": {
              "color": "#E5ECF6",
              "width": 0.5
             },
             "pattern": {
              "fillmode": "overlay",
              "size": 10,
              "solidity": 0.2
             }
            },
            "type": "bar"
           }
          ],
          "barpolar": [
           {
            "marker": {
             "line": {
              "color": "#E5ECF6",
              "width": 0.5
             },
             "pattern": {
              "fillmode": "overlay",
              "size": 10,
              "solidity": 0.2
             }
            },
            "type": "barpolar"
           }
          ],
          "carpet": [
           {
            "aaxis": {
             "endlinecolor": "#2a3f5f",
             "gridcolor": "white",
             "linecolor": "white",
             "minorgridcolor": "white",
             "startlinecolor": "#2a3f5f"
            },
            "baxis": {
             "endlinecolor": "#2a3f5f",
             "gridcolor": "white",
             "linecolor": "white",
             "minorgridcolor": "white",
             "startlinecolor": "#2a3f5f"
            },
            "type": "carpet"
           }
          ],
          "choropleth": [
           {
            "colorbar": {
             "outlinewidth": 0,
             "ticks": ""
            },
            "type": "choropleth"
           }
          ],
          "contour": [
           {
            "colorbar": {
             "outlinewidth": 0,
             "ticks": ""
            },
            "colorscale": [
             [
              0,
              "#0d0887"
             ],
             [
              0.1111111111111111,
              "#46039f"
             ],
             [
              0.2222222222222222,
              "#7201a8"
             ],
             [
              0.3333333333333333,
              "#9c179e"
             ],
             [
              0.4444444444444444,
              "#bd3786"
             ],
             [
              0.5555555555555556,
              "#d8576b"
             ],
             [
              0.6666666666666666,
              "#ed7953"
             ],
             [
              0.7777777777777778,
              "#fb9f3a"
             ],
             [
              0.8888888888888888,
              "#fdca26"
             ],
             [
              1,
              "#f0f921"
             ]
            ],
            "type": "contour"
           }
          ],
          "contourcarpet": [
           {
            "colorbar": {
             "outlinewidth": 0,
             "ticks": ""
            },
            "type": "contourcarpet"
           }
          ],
          "heatmap": [
           {
            "colorbar": {
             "outlinewidth": 0,
             "ticks": ""
            },
            "colorscale": [
             [
              0,
              "#0d0887"
             ],
             [
              0.1111111111111111,
              "#46039f"
             ],
             [
              0.2222222222222222,
              "#7201a8"
             ],
             [
              0.3333333333333333,
              "#9c179e"
             ],
             [
              0.4444444444444444,
              "#bd3786"
             ],
             [
              0.5555555555555556,
              "#d8576b"
             ],
             [
              0.6666666666666666,
              "#ed7953"
             ],
             [
              0.7777777777777778,
              "#fb9f3a"
             ],
             [
              0.8888888888888888,
              "#fdca26"
             ],
             [
              1,
              "#f0f921"
             ]
            ],
            "type": "heatmap"
           }
          ],
          "heatmapgl": [
           {
            "colorbar": {
             "outlinewidth": 0,
             "ticks": ""
            },
            "colorscale": [
             [
              0,
              "#0d0887"
             ],
             [
              0.1111111111111111,
              "#46039f"
             ],
             [
              0.2222222222222222,
              "#7201a8"
             ],
             [
              0.3333333333333333,
              "#9c179e"
             ],
             [
              0.4444444444444444,
              "#bd3786"
             ],
             [
              0.5555555555555556,
              "#d8576b"
             ],
             [
              0.6666666666666666,
              "#ed7953"
             ],
             [
              0.7777777777777778,
              "#fb9f3a"
             ],
             [
              0.8888888888888888,
              "#fdca26"
             ],
             [
              1,
              "#f0f921"
             ]
            ],
            "type": "heatmapgl"
           }
          ],
          "histogram": [
           {
            "marker": {
             "pattern": {
              "fillmode": "overlay",
              "size": 10,
              "solidity": 0.2
             }
            },
            "type": "histogram"
           }
          ],
          "histogram2d": [
           {
            "colorbar": {
             "outlinewidth": 0,
             "ticks": ""
            },
            "colorscale": [
             [
              0,
              "#0d0887"
             ],
             [
              0.1111111111111111,
              "#46039f"
             ],
             [
              0.2222222222222222,
              "#7201a8"
             ],
             [
              0.3333333333333333,
              "#9c179e"
             ],
             [
              0.4444444444444444,
              "#bd3786"
             ],
             [
              0.5555555555555556,
              "#d8576b"
             ],
             [
              0.6666666666666666,
              "#ed7953"
             ],
             [
              0.7777777777777778,
              "#fb9f3a"
             ],
             [
              0.8888888888888888,
              "#fdca26"
             ],
             [
              1,
              "#f0f921"
             ]
            ],
            "type": "histogram2d"
           }
          ],
          "histogram2dcontour": [
           {
            "colorbar": {
             "outlinewidth": 0,
             "ticks": ""
            },
            "colorscale": [
             [
              0,
              "#0d0887"
             ],
             [
              0.1111111111111111,
              "#46039f"
             ],
             [
              0.2222222222222222,
              "#7201a8"
             ],
             [
              0.3333333333333333,
              "#9c179e"
             ],
             [
              0.4444444444444444,
              "#bd3786"
             ],
             [
              0.5555555555555556,
              "#d8576b"
             ],
             [
              0.6666666666666666,
              "#ed7953"
             ],
             [
              0.7777777777777778,
              "#fb9f3a"
             ],
             [
              0.8888888888888888,
              "#fdca26"
             ],
             [
              1,
              "#f0f921"
             ]
            ],
            "type": "histogram2dcontour"
           }
          ],
          "mesh3d": [
           {
            "colorbar": {
             "outlinewidth": 0,
             "ticks": ""
            },
            "type": "mesh3d"
           }
          ],
          "parcoords": [
           {
            "line": {
             "colorbar": {
              "outlinewidth": 0,
              "ticks": ""
             }
            },
            "type": "parcoords"
           }
          ],
          "pie": [
           {
            "automargin": true,
            "type": "pie"
           }
          ],
          "scatter": [
           {
            "fillpattern": {
             "fillmode": "overlay",
             "size": 10,
             "solidity": 0.2
            },
            "type": "scatter"
           }
          ],
          "scatter3d": [
           {
            "line": {
             "colorbar": {
              "outlinewidth": 0,
              "ticks": ""
             }
            },
            "marker": {
             "colorbar": {
              "outlinewidth": 0,
              "ticks": ""
             }
            },
            "type": "scatter3d"
           }
          ],
          "scattercarpet": [
           {
            "marker": {
             "colorbar": {
              "outlinewidth": 0,
              "ticks": ""
             }
            },
            "type": "scattercarpet"
           }
          ],
          "scattergeo": [
           {
            "marker": {
             "colorbar": {
              "outlinewidth": 0,
              "ticks": ""
             }
            },
            "type": "scattergeo"
           }
          ],
          "scattergl": [
           {
            "marker": {
             "colorbar": {
              "outlinewidth": 0,
              "ticks": ""
             }
            },
            "type": "scattergl"
           }
          ],
          "scattermapbox": [
           {
            "marker": {
             "colorbar": {
              "outlinewidth": 0,
              "ticks": ""
             }
            },
            "type": "scattermapbox"
           }
          ],
          "scatterpolar": [
           {
            "marker": {
             "colorbar": {
              "outlinewidth": 0,
              "ticks": ""
             }
            },
            "type": "scatterpolar"
           }
          ],
          "scatterpolargl": [
           {
            "marker": {
             "colorbar": {
              "outlinewidth": 0,
              "ticks": ""
             }
            },
            "type": "scatterpolargl"
           }
          ],
          "scatterternary": [
           {
            "marker": {
             "colorbar": {
              "outlinewidth": 0,
              "ticks": ""
             }
            },
            "type": "scatterternary"
           }
          ],
          "surface": [
           {
            "colorbar": {
             "outlinewidth": 0,
             "ticks": ""
            },
            "colorscale": [
             [
              0,
              "#0d0887"
             ],
             [
              0.1111111111111111,
              "#46039f"
             ],
             [
              0.2222222222222222,
              "#7201a8"
             ],
             [
              0.3333333333333333,
              "#9c179e"
             ],
             [
              0.4444444444444444,
              "#bd3786"
             ],
             [
              0.5555555555555556,
              "#d8576b"
             ],
             [
              0.6666666666666666,
              "#ed7953"
             ],
             [
              0.7777777777777778,
              "#fb9f3a"
             ],
             [
              0.8888888888888888,
              "#fdca26"
             ],
             [
              1,
              "#f0f921"
             ]
            ],
            "type": "surface"
           }
          ],
          "table": [
           {
            "cells": {
             "fill": {
              "color": "#EBF0F8"
             },
             "line": {
              "color": "white"
             }
            },
            "header": {
             "fill": {
              "color": "#C8D4E3"
             },
             "line": {
              "color": "white"
             }
            },
            "type": "table"
           }
          ]
         },
         "layout": {
          "annotationdefaults": {
           "arrowcolor": "#2a3f5f",
           "arrowhead": 0,
           "arrowwidth": 1
          },
          "autotypenumbers": "strict",
          "coloraxis": {
           "colorbar": {
            "outlinewidth": 0,
            "ticks": ""
           }
          },
          "colorscale": {
           "diverging": [
            [
             0,
             "#8e0152"
            ],
            [
             0.1,
             "#c51b7d"
            ],
            [
             0.2,
             "#de77ae"
            ],
            [
             0.3,
             "#f1b6da"
            ],
            [
             0.4,
             "#fde0ef"
            ],
            [
             0.5,
             "#f7f7f7"
            ],
            [
             0.6,
             "#e6f5d0"
            ],
            [
             0.7,
             "#b8e186"
            ],
            [
             0.8,
             "#7fbc41"
            ],
            [
             0.9,
             "#4d9221"
            ],
            [
             1,
             "#276419"
            ]
           ],
           "sequential": [
            [
             0,
             "#0d0887"
            ],
            [
             0.1111111111111111,
             "#46039f"
            ],
            [
             0.2222222222222222,
             "#7201a8"
            ],
            [
             0.3333333333333333,
             "#9c179e"
            ],
            [
             0.4444444444444444,
             "#bd3786"
            ],
            [
             0.5555555555555556,
             "#d8576b"
            ],
            [
             0.6666666666666666,
             "#ed7953"
            ],
            [
             0.7777777777777778,
             "#fb9f3a"
            ],
            [
             0.8888888888888888,
             "#fdca26"
            ],
            [
             1,
             "#f0f921"
            ]
           ],
           "sequentialminus": [
            [
             0,
             "#0d0887"
            ],
            [
             0.1111111111111111,
             "#46039f"
            ],
            [
             0.2222222222222222,
             "#7201a8"
            ],
            [
             0.3333333333333333,
             "#9c179e"
            ],
            [
             0.4444444444444444,
             "#bd3786"
            ],
            [
             0.5555555555555556,
             "#d8576b"
            ],
            [
             0.6666666666666666,
             "#ed7953"
            ],
            [
             0.7777777777777778,
             "#fb9f3a"
            ],
            [
             0.8888888888888888,
             "#fdca26"
            ],
            [
             1,
             "#f0f921"
            ]
           ]
          },
          "colorway": [
           "#636efa",
           "#EF553B",
           "#00cc96",
           "#ab63fa",
           "#FFA15A",
           "#19d3f3",
           "#FF6692",
           "#B6E880",
           "#FF97FF",
           "#FECB52"
          ],
          "font": {
           "color": "#2a3f5f"
          },
          "geo": {
           "bgcolor": "white",
           "lakecolor": "white",
           "landcolor": "#E5ECF6",
           "showlakes": true,
           "showland": true,
           "subunitcolor": "white"
          },
          "hoverlabel": {
           "align": "left"
          },
          "hovermode": "closest",
          "mapbox": {
           "style": "light"
          },
          "paper_bgcolor": "white",
          "plot_bgcolor": "#E5ECF6",
          "polar": {
           "angularaxis": {
            "gridcolor": "white",
            "linecolor": "white",
            "ticks": ""
           },
           "bgcolor": "#E5ECF6",
           "radialaxis": {
            "gridcolor": "white",
            "linecolor": "white",
            "ticks": ""
           }
          },
          "scene": {
           "xaxis": {
            "backgroundcolor": "#E5ECF6",
            "gridcolor": "white",
            "gridwidth": 2,
            "linecolor": "white",
            "showbackground": true,
            "ticks": "",
            "zerolinecolor": "white"
           },
           "yaxis": {
            "backgroundcolor": "#E5ECF6",
            "gridcolor": "white",
            "gridwidth": 2,
            "linecolor": "white",
            "showbackground": true,
            "ticks": "",
            "zerolinecolor": "white"
           },
           "zaxis": {
            "backgroundcolor": "#E5ECF6",
            "gridcolor": "white",
            "gridwidth": 2,
            "linecolor": "white",
            "showbackground": true,
            "ticks": "",
            "zerolinecolor": "white"
           }
          },
          "shapedefaults": {
           "line": {
            "color": "#2a3f5f"
           }
          },
          "ternary": {
           "aaxis": {
            "gridcolor": "white",
            "linecolor": "white",
            "ticks": ""
           },
           "baxis": {
            "gridcolor": "white",
            "linecolor": "white",
            "ticks": ""
           },
           "bgcolor": "#E5ECF6",
           "caxis": {
            "gridcolor": "white",
            "linecolor": "white",
            "ticks": ""
           }
          },
          "title": {
           "x": 0.05
          },
          "xaxis": {
           "automargin": true,
           "gridcolor": "white",
           "linecolor": "white",
           "ticks": "",
           "title": {
            "standoff": 15
           },
           "zerolinecolor": "white",
           "zerolinewidth": 2
          },
          "yaxis": {
           "automargin": true,
           "gridcolor": "white",
           "linecolor": "white",
           "ticks": "",
           "title": {
            "standoff": 15
           },
           "zerolinecolor": "white",
           "zerolinewidth": 2
          }
         }
        },
        "xaxis": {
         "anchor": "y",
         "constrain": "domain",
         "domain": [
          0,
          1
         ],
         "scaleanchor": "y"
        },
        "yaxis": {
         "anchor": "x",
         "autorange": "reversed",
         "constrain": "domain",
         "domain": [
          0,
          1
         ]
        }
       }
      },
      "text/html": [
       "<div>                            <div id=\"595b70ab-d0b3-469b-9ceb-233c4522ecf0\" class=\"plotly-graph-div\" style=\"height:525px; width:100%;\"></div>            <script type=\"text/javascript\">                require([\"plotly\"], function(Plotly) {                    window.PLOTLYENV=window.PLOTLYENV || {};                                    if (document.getElementById(\"595b70ab-d0b3-469b-9ceb-233c4522ecf0\")) {                    Plotly.newPlot(                        \"595b70ab-d0b3-469b-9ceb-233c4522ecf0\",                        [{\"coloraxis\":\"coloraxis\",\"name\":\"0\",\"z\":[[-0.014859231188893318,-0.9997597932815552,-0.9918147325515747,-0.9999940991401672,-0.999909520149231,-0.9999982714653015,-0.9991072416305542,-0.9999977350234985,-0.9997738003730774,-0.9996075630187988,-0.9878809452056885,-0.9999949336051941,-0.9999887347221375,-0.9999837875366211,-0.9997646808624268,-0.9998955726623535,-0.9999366402626038,-0.9951349496841431,-0.999957263469696,0.30508682131767273,-0.9848967790603638,-0.9994962215423584,-0.9988802075386047,-0.9999309182167053,-0.9999948740005493,-0.9080380797386169,-0.9982040524482727,-0.999755322933197],[-0.9999871850013733,-0.9986267685890198,-0.9998194575309753,-0.9999566674232483,-0.9998183846473694,-0.9998679161071777,-0.9999844431877136,-0.9999856352806091,-0.9994931817054749,-0.9663927555084229,-0.9999996423721313,-0.9999479651451111,-0.9996351003646851,-0.999864935874939,-0.9987911581993103,-0.3205944895744324,-0.9996679425239563,-0.9999465346336365,-0.9999924898147583,-0.9978437423706055,-0.9999422430992126,-0.9999514222145081,-0.9980676770210266,-0.9999964833259583,-0.9999932050704956,-0.9996727108955383,-0.9990966320037842,-0.9999962449073792],[-0.9999949336051941,-0.999880313873291,-0.9999415874481201,-0.9999855756759644,-0.9998341202735901,-0.9999997615814209,-0.9999751448631287,-0.9998133182525635,-0.9992241859436035,-0.996366024017334,-0.999998152256012,-0.9996801614761353,-0.9922443628311157,-0.9999983310699463,-0.9999256730079651,-0.9999917149543762,-0.9933737516403198,-0.9999900460243225,-0.9999987483024597,-0.9994938373565674,-0.9999961256980896,-0.9999884963035583,-0.9996384382247925,-0.9976020455360413,-0.9997026920318604,-0.9999893307685852,-0.9999046325683594,-0.9681412577629089],[-0.9999982714653015,-0.9868056178092957,-0.9999192357063293,-0.9999287724494934,-0.999833881855011,-0.9968224167823792,-0.9990696310997009,-0.9996989369392395,-0.9999762177467346,-0.9936109781265259,-0.9997928738594055,0.22438891232013702,-0.9989632368087769,-0.999948263168335,-0.9999881982803345,-0.9997907876968384,-0.9952482581138611,-0.9999351501464844,0.4104015529155731,-0.9948278069496155,-0.9986542463302612,-0.9999831318855286,-0.8942933082580566,-0.999994695186615,-0.9999199509620667,-0.9999696016311646,-0.9999754428863525,-0.9996264576911926],[-0.999994158744812,-0.999450147151947,-0.9999105334281921,-0.9991548657417297,-0.9982683658599854,-0.9999740719795227,-0.9999971389770508,-0.9993048310279846,-0.9030773639678955,-0.8684400916099548,-0.8536412715911865,-0.9133763909339905,-0.9881777167320251,0.21191293001174927,-0.9937787055969238,-0.990939199924469,-0.9951134920120239,-0.8401716947555542,-0.9979271292686462,-0.9703735709190369,-0.9998902082443237,-0.9997962117195129,-0.9991456866264343,-0.9999157190322876,-0.9999857544898987,-0.9999308586120605,-0.9999665021896362,-0.9999277591705322],[-0.9962102174758911,-0.9941844940185547,-0.8140556812286377,-0.7782355546951294,-0.9999732375144958,-0.9948234558105469,-0.9999403953552246,-0.9574601054191589,-0.4382547438144684,0.6387863755226135,-0.4812571406364441,0.490466833114624,-0.14321860671043396,0.8582035303115845,-0.5686731338500977,0.4737871289253235,0.4012453854084015,-0.7852505445480347,-0.9319397807121277,-0.9717149138450623,-0.9728679656982422,-0.9092333912849426,-0.9997410774230957,-0.9950645565986633,-0.9930834174156189,-0.9998863935470581,-0.9999876618385315,-0.9991496801376343],[-0.9983065128326416,-0.9954262375831604,-0.9999074935913086,-0.9972637295722961,-0.9983479976654053,-0.9997483491897583,-0.9930545091629028,-0.9498016238212585,-0.9943900108337402,0.4610086679458618,-0.19214420020580292,0.751662015914917,-0.42348167300224304,-0.14748376607894897,-0.0835193619132042,0.5222377777099609,0.2710636854171753,-0.9484623670578003,-0.9971687197685242,-0.9978445172309875,-0.9670681953430176,-0.9990115165710449,-0.9876746535301208,-0.9958438277244568,-0.9965521097183228,-0.9868531227111816,-0.9999992847442627,-0.999224841594696],[-0.9847397804260254,-0.9999746084213257,-0.999971330165863,-0.9998675584793091,-0.9999542832374573,-0.9952095150947571,-0.9815849661827087,-0.9969698190689087,-0.9632049202919006,-0.9979588985443115,-0.9629693627357483,-0.9190676808357239,-0.8949227929115295,-0.9975247383117676,-0.9639557600021362,-0.9358031749725342,-0.6412003040313721,-0.9368292689323425,-0.9982185959815979,-0.9953662157058716,-0.9985737204551697,-0.998886227607727,-0.999755322933197,-0.9996265172958374,-0.9991516470909119,-0.9997121691703796,-0.9999987483024597,-0.9999712109565735],[-0.9999815821647644,-0.9992210268974304,-0.9999222755432129,-0.99980628490448,-0.9998472332954407,-0.9834238886833191,-0.9998447299003601,-0.9995682239532471,-0.9899967312812805,-0.9888140559196472,-0.9372284412384033,-0.9998332262039185,-0.9999125599861145,-0.9995585680007935,-0.9991658329963684,-0.9221637845039368,-0.9772102236747742,-0.9690908193588257,-0.9910939931869507,-0.9243431091308594,-0.9996405243873596,-0.9912141561508179,-0.9999555945396423,-0.9997770190238953,-0.9928207993507385,-0.9763450026512146,-0.999002993106842,-0.9997977614402771],[-0.9949171543121338,-0.9999634027481079,-0.9998748302459717,-0.9999889731407166,-0.9440494179725647,-0.9954600930213928,-0.9997178912162781,-0.9985573887825012,-0.9968456625938416,-0.9999250769615173,-0.9995256662368774,-0.9825617671012878,-0.9977306723594666,-0.9828891158103943,-0.9520339965820312,-0.9196392297744751,-0.9965535998344421,-0.9999058842658997,-0.9998889565467834,-0.9968090653419495,-0.999852180480957,-0.9999753832817078,-0.999657392501831,-0.9999962449073792,-0.9999997019767761,-0.9889211654663086,-0.9998940825462341,-0.999986469745636],[-0.9682106971740723,-0.9999804496765137,-0.9997687339782715,-0.999873697757721,-0.9987687468528748,-0.9998201131820679,-0.999828040599823,-0.9999962449073792,-0.9997974038124084,-0.997636079788208,-0.9933621883392334,-0.7079074382781982,-0.40462055802345276,-0.8904082775115967,-0.45256486535072327,-0.9569410085678101,-0.9841939806938171,-0.9997303485870361,-0.9999295473098755,-0.9999790787696838,-0.9986919164657593,-0.9999043941497803,-0.9999960064888,-0.9999982118606567,-0.9999622702598572,-0.9999938607215881,-0.9999167323112488,-0.9999725222587585],[-0.9999538660049438,-0.9770078659057617,-0.9766479134559631,-0.9796192646026611,-0.9861717820167542,-0.9996802806854248,-0.9994567632675171,-0.9999988675117493,-0.9999879002571106,-0.9993592500686646,-0.8312707543373108,-0.6076946258544922,0.9063355922698975,0.759408175945282,0.19869521260261536,-0.9925039410591125,-0.9940257668495178,-0.9985002875328064,-0.9997684359550476,-0.9999719858169556,-0.9999776482582092,-0.9999915957450867,-0.9999999403953552,-0.9999995827674866,-0.9999983310699463,-0.9899628162384033,-0.9994394183158875,-0.9995105862617493],[-0.9994529485702515,-0.9997943639755249,-0.9999653697013855,-0.9978662729263306,-0.9997140169143677,-0.999717652797699,-0.9999973177909851,-0.9999983310699463,-0.9992808103561401,-0.997326135635376,-0.8558576107025146,0.8430378437042236,0.9960265159606934,0.991825520992279,0.42228540778160095,-0.9421434998512268,-0.9957376718521118,-0.9988549947738647,-0.9998209476470947,-0.9999903440475464,-0.9997449517250061,-0.9999895095825195,-0.9999887347221375,-0.9999979734420776,-0.9999989867210388,-0.9999997615814209,-0.9999052882194519,-0.9999938011169434],[-0.9998775124549866,-0.9998580813407898,-0.9996654391288757,-0.9999843239784241,-0.9999615550041199,-0.9999757409095764,-0.9999972581863403,-0.9999885559082031,-0.9999829530715942,-0.9597110748291016,-0.787765383720398,0.8268694877624512,0.9255968332290649,-0.23112598061561584,-0.7976205945014954,-0.9354127049446106,-0.5349894165992737,-0.8788449168205261,-0.98464035987854,-0.9999793171882629,-0.9998989701271057,-0.9997331500053406,-0.9999979138374329,-0.9999998211860657,-0.9999867081642151,-0.9997342824935913,-0.997006893157959,-0.9999346137046814],[-0.9999985694885254,-0.9971315264701843,-0.9997144341468811,-0.9883213639259338,-0.9999608397483826,-0.9999720454216003,-0.9999684691429138,-0.9999995827674866,-0.9999973773956299,-0.9997774958610535,-0.9980520606040955,-0.9828575849533081,-0.9848496317863464,-0.995352566242218,-0.9959019422531128,0.6100198030471802,0.8977692127227783,0.8461259603500366,-0.906975507736206,-0.9841433167457581,-0.9993458390235901,-0.9999950528144836,-0.9998650550842285,-0.9995134472846985,-0.9999950528144836,-0.9991785287857056,-0.9995257258415222,-0.9999743700027466],[-0.9999781847000122,-0.9999415278434753,-0.9996572136878967,-0.9938987493515015,-0.9571812748908997,-0.9999512434005737,-0.9999998807907104,-0.9999973177909851,-0.9999935030937195,-0.9985681772232056,-0.9998629689216614,-0.9953284859657288,-0.9978864192962646,-0.999877393245697,-0.954307496547699,0.6458431482315063,0.3029024600982666,0.9829859733581543,-0.4583764672279358,-0.7322245240211487,-0.9898391962051392,-0.9997043013572693,-0.9999988079071045,-0.999984622001648,-0.9999935626983643,-0.9999349117279053,-0.999988853931427,-0.9995163679122925],[-0.9991390109062195,-0.9999997019767761,-0.999947190284729,-0.9985338449478149,-0.9993571639060974,-0.9999861717224121,-0.9999991059303284,-0.9999998807907104,-0.9999954104423523,-0.9976138472557068,-0.9997662901878357,-0.9900171160697937,-0.999768078327179,-0.9998387098312378,-0.9970479011535645,-0.9964367747306824,0.028237363323569298,0.15900057554244995,0.9824205040931702,-0.6152206659317017,-0.9995293021202087,-0.9999738335609436,-0.9998975992202759,-0.9999945759773254,-0.999997615814209,-0.9999943971633911,-0.9999670386314392,-0.9999990463256836],[-0.999994695186615,-0.9999976754188538,-0.999858558177948,-0.9932750463485718,-0.9999132752418518,-0.9995318651199341,-0.99995356798172,-0.9999991059303284,-0.9999999403953552,-0.9998676180839539,-0.9987170100212097,-0.9997413754463196,-0.9998511672019958,-0.999843955039978,-0.9998174905776978,-0.9974406361579895,-0.40186724066734314,0.9858339428901672,0.8191716074943542,0.681979775428772,-0.8500301241874695,-0.9998666048049927,-0.9996677041053772,-0.9998825788497925,-0.9999724626541138,-0.9999572038650513,-0.9998136758804321,-0.999935507774353],[-0.9990010261535645,-0.9986321926116943,-0.9999868869781494,-0.8430062532424927,-0.998902440071106,-0.9996882081031799,-0.9999818801879883,-0.9991593956947327,-0.9999766945838928,-0.9990241527557373,-0.9878227114677429,-0.9915184378623962,-0.9957283735275269,-0.9999841451644897,-0.999991774559021,-0.999817967414856,-0.982318103313446,0.5903300046920776,0.9957234859466553,0.9505440592765808,-0.9622473120689392,-0.9995498061180115,-0.9999730587005615,-0.9999427199363708,-0.9999728202819824,-0.9986737370491028,-0.9999948740005493,-0.999973475933075],[-0.9998173713684082,-0.9999645948410034,-0.9999517798423767,-0.9968963265419006,-0.9987823367118835,-0.9999554753303528,-0.9980366826057434,-0.9997870922088623,-0.9993931651115417,-0.9637325406074524,-0.9996365904808044,-0.9991627931594849,-0.99982750415802,-0.9999980926513672,-0.9999979734420776,-0.9999759793281555,-0.9933035373687744,0.6204218864440918,0.7406699657440186,-0.710339367389679,-0.9334905743598938,-0.999737560749054,-0.9999801516532898,-0.999994158744812,-0.9998438954353333,-0.9998031854629517,-0.9999843239784241,-0.9999756813049316],[-0.9993289709091187,-0.9986547827720642,-0.996180534362793,-0.9999786615371704,-0.9975823760032654,-0.9979571104049683,-0.9993383884429932,-0.9983236193656921,-0.9994107484817505,-0.9983840584754944,-0.9944694638252258,-0.999667763710022,-0.9999722838401794,-0.9999974370002747,-0.999767005443573,-0.9995471239089966,-0.21459166705608368,-0.0077690668404102325,0.25267621874809265,-0.9792191386222839,-0.9979510307312012,-0.9999171495437622,-0.9993152618408203,-0.9999528527259827,-0.9998443126678467,-0.9964441061019897,-0.9999728202819824,-0.9999411106109619],[-0.9998973608016968,-0.6801958084106445,-0.9995887875556946,-0.9991135597229004,-0.9997228384017944,-0.9989415407180786,-0.9988187551498413,-0.9899816513061523,-0.9989601969718933,-0.7427907586097717,-0.5976975560188293,-0.4267388582229614,-0.9971134066581726,-0.9999364018440247,-0.9781359434127808,-0.892209529876709,-0.5884679555892944,0.4895116686820984,-0.9125440120697021,-0.729526162147522,-0.9975186586380005,-0.999934196472168,-0.9990285634994507,-0.9999311566352844,-0.9998834133148193,-0.9999935030937195,-0.9999967217445374,-0.9999666213989258],[-0.9999603033065796,-0.9999613761901855,-0.9999518990516663,-0.9996676445007324,-0.9996151924133301,-0.9999436140060425,-0.9994282722473145,-0.9100394248962402,-0.995783805847168,-0.26245155930519104,0.47511446475982666,-0.41095712780952454,-0.716437816619873,-0.48952484130859375,-0.2486879676580429,0.6453964710235596,-0.655116617679596,-0.8375799059867859,-0.7890824675559998,-0.9807159900665283,-0.9896252751350403,-0.9995254874229431,-0.9999642968177795,-0.9999661445617676,-0.9990434646606445,-0.9977833032608032,-0.9999180436134338,-0.9879294633865356],[-0.9995018243789673,-0.9999992251396179,-0.9968416094779968,-0.9999763369560242,-0.9997369050979614,-0.99971604347229,-0.9997252821922302,-0.9992896318435669,-0.9709370136260986,-0.8411954045295715,0.8839079737663269,0.8355571031570435,0.9740735292434692,0.9959193468093872,0.850494921207428,-0.6051117181777954,-0.9813104867935181,-0.6636483669281006,-0.9763409495353699,-0.9711723923683167,-0.9999494552612305,-0.9999653697013855,-0.9996198415756226,-0.9999849796295166,-0.9998875260353088,-0.9991883635520935,-0.9999943375587463,-0.9957858920097351],[-0.993416428565979,-0.999153733253479,-0.9998487234115601,-0.9998982548713684,-0.9999314546585083,-0.9985122680664062,-0.9918679594993591,-0.8715833425521851,-0.9987388253211975,-0.9310095906257629,-0.10161441564559937,-0.3216717839241028,0.4613238275051117,0.15630057454109192,-0.8489211797714233,-0.9898062944412231,-0.9984399080276489,-0.9978893995285034,-0.9421622157096863,-0.9691780805587769,-0.999718964099884,-0.9999810457229614,-0.9994680285453796,-0.9993411302566528,-0.9999937415122986,-0.999294638633728,-0.9999662041664124,-0.9999986886978149],[-0.9997572898864746,-0.9990026950836182,-0.9934150576591492,-0.9999855756759644,-0.9990019798278809,-0.9999701976776123,-0.9999989867210388,-0.982149064540863,-0.999991774559021,-0.9943540692329407,-0.9785747528076172,-0.7911438345909119,-0.9995875954627991,-0.9999711513519287,-0.9996926784515381,-0.9999996423721313,-0.9999932050704956,-0.9983167052268982,-0.999683141708374,-0.9996927380561829,-0.9992555975914001,-0.9990770220756531,-0.9992790818214417,-0.9999969005584717,-0.9999465942382812,-0.9988962411880493,-0.9999114274978638,-0.9999414682388306],[-0.9967328310012817,-0.9998698234558105,-0.9999914169311523,-0.9999703764915466,-0.9999812245368958,-0.999987781047821,-0.9999833106994629,-0.993510365486145,-0.9999943375587463,-0.9999274611473083,-0.9999563097953796,-0.9972928166389465,-0.9989957213401794,-0.999948263168335,-0.9999592900276184,-0.9957128763198853,-0.9999240040779114,-0.9999772310256958,-0.9962196350097656,-0.9999991059303284,-0.999998152256012,-0.9999793171882629,-0.9996955394744873,-0.9983194470405579,-0.9997239708900452,-0.9993907809257507,-0.9947237968444824,-0.99946129322052],[-0.999965488910675,-0.999773383140564,-0.9997712969779968,-0.9998950362205505,-0.9999579191207886,-0.9999741315841675,-0.982841968536377,-0.9999682307243347,-0.9141994714736938,-0.9980916380882263,-0.9995591640472412,-0.996016263961792,-0.9998754858970642,-0.9994719624519348,-0.959610104560852,-0.999950647354126,-0.9999947547912598,-0.999954104423523,-0.9999971389770508,-0.999396026134491,-0.9999752640724182,-0.9993215203285217,-0.9998947978019714,-0.9994701147079468,-0.9805099368095398,-0.8722597360610962,-0.9999626278877258,-0.9999997615814209]],\"type\":\"heatmap\",\"xaxis\":\"x\",\"yaxis\":\"y\",\"hovertemplate\":\"x: %{x}\\u003cbr\\u003ey: %{y}\\u003cbr\\u003ecolor: %{z}\\u003cextra\\u003e\\u003c\\u002fextra\\u003e\"}],                        {\"template\":{\"data\":{\"histogram2dcontour\":[{\"type\":\"histogram2dcontour\",\"colorbar\":{\"outlinewidth\":0,\"ticks\":\"\"},\"colorscale\":[[0.0,\"#0d0887\"],[0.1111111111111111,\"#46039f\"],[0.2222222222222222,\"#7201a8\"],[0.3333333333333333,\"#9c179e\"],[0.4444444444444444,\"#bd3786\"],[0.5555555555555556,\"#d8576b\"],[0.6666666666666666,\"#ed7953\"],[0.7777777777777778,\"#fb9f3a\"],[0.8888888888888888,\"#fdca26\"],[1.0,\"#f0f921\"]]}],\"choropleth\":[{\"type\":\"choropleth\",\"colorbar\":{\"outlinewidth\":0,\"ticks\":\"\"}}],\"histogram2d\":[{\"type\":\"histogram2d\",\"colorbar\":{\"outlinewidth\":0,\"ticks\":\"\"},\"colorscale\":[[0.0,\"#0d0887\"],[0.1111111111111111,\"#46039f\"],[0.2222222222222222,\"#7201a8\"],[0.3333333333333333,\"#9c179e\"],[0.4444444444444444,\"#bd3786\"],[0.5555555555555556,\"#d8576b\"],[0.6666666666666666,\"#ed7953\"],[0.7777777777777778,\"#fb9f3a\"],[0.8888888888888888,\"#fdca26\"],[1.0,\"#f0f921\"]]}],\"heatmap\":[{\"type\":\"heatmap\",\"colorbar\":{\"outlinewidth\":0,\"ticks\":\"\"},\"colorscale\":[[0.0,\"#0d0887\"],[0.1111111111111111,\"#46039f\"],[0.2222222222222222,\"#7201a8\"],[0.3333333333333333,\"#9c179e\"],[0.4444444444444444,\"#bd3786\"],[0.5555555555555556,\"#d8576b\"],[0.6666666666666666,\"#ed7953\"],[0.7777777777777778,\"#fb9f3a\"],[0.8888888888888888,\"#fdca26\"],[1.0,\"#f0f921\"]]}],\"heatmapgl\":[{\"type\":\"heatmapgl\",\"colorbar\":{\"outlinewidth\":0,\"ticks\":\"\"},\"colorscale\":[[0.0,\"#0d0887\"],[0.1111111111111111,\"#46039f\"],[0.2222222222222222,\"#7201a8\"],[0.3333333333333333,\"#9c179e\"],[0.4444444444444444,\"#bd3786\"],[0.5555555555555556,\"#d8576b\"],[0.6666666666666666,\"#ed7953\"],[0.7777777777777778,\"#fb9f3a\"],[0.8888888888888888,\"#fdca26\"],[1.0,\"#f0f921\"]]}],\"contourcarpet\":[{\"type\":\"contourcarpet\",\"colorbar\":{\"outlinewidth\":0,\"ticks\":\"\"}}],\"contour\":[{\"type\":\"contour\",\"colorbar\":{\"outlinewidth\":0,\"ticks\":\"\"},\"colorscale\":[[0.0,\"#0d0887\"],[0.1111111111111111,\"#46039f\"],[0.2222222222222222,\"#7201a8\"],[0.3333333333333333,\"#9c179e\"],[0.4444444444444444,\"#bd3786\"],[0.5555555555555556,\"#d8576b\"],[0.6666666666666666,\"#ed7953\"],[0.7777777777777778,\"#fb9f3a\"],[0.8888888888888888,\"#fdca26\"],[1.0,\"#f0f921\"]]}],\"surface\":[{\"type\":\"surface\",\"colorbar\":{\"outlinewidth\":0,\"ticks\":\"\"},\"colorscale\":[[0.0,\"#0d0887\"],[0.1111111111111111,\"#46039f\"],[0.2222222222222222,\"#7201a8\"],[0.3333333333333333,\"#9c179e\"],[0.4444444444444444,\"#bd3786\"],[0.5555555555555556,\"#d8576b\"],[0.6666666666666666,\"#ed7953\"],[0.7777777777777778,\"#fb9f3a\"],[0.8888888888888888,\"#fdca26\"],[1.0,\"#f0f921\"]]}],\"mesh3d\":[{\"type\":\"mesh3d\",\"colorbar\":{\"outlinewidth\":0,\"ticks\":\"\"}}],\"scatter\":[{\"fillpattern\":{\"fillmode\":\"overlay\",\"size\":10,\"solidity\":0.2},\"type\":\"scatter\"}],\"parcoords\":[{\"type\":\"parcoords\",\"line\":{\"colorbar\":{\"outlinewidth\":0,\"ticks\":\"\"}}}],\"scatterpolargl\":[{\"type\":\"scatterpolargl\",\"marker\":{\"colorbar\":{\"outlinewidth\":0,\"ticks\":\"\"}}}],\"bar\":[{\"error_x\":{\"color\":\"#2a3f5f\"},\"error_y\":{\"color\":\"#2a3f5f\"},\"marker\":{\"line\":{\"color\":\"#E5ECF6\",\"width\":0.5},\"pattern\":{\"fillmode\":\"overlay\",\"size\":10,\"solidity\":0.2}},\"type\":\"bar\"}],\"scattergeo\":[{\"type\":\"scattergeo\",\"marker\":{\"colorbar\":{\"outlinewidth\":0,\"ticks\":\"\"}}}],\"scatterpolar\":[{\"type\":\"scatterpolar\",\"marker\":{\"colorbar\":{\"outlinewidth\":0,\"ticks\":\"\"}}}],\"histogram\":[{\"marker\":{\"pattern\":{\"fillmode\":\"overlay\",\"size\":10,\"solidity\":0.2}},\"type\":\"histogram\"}],\"scattergl\":[{\"type\":\"scattergl\",\"marker\":{\"colorbar\":{\"outlinewidth\":0,\"ticks\":\"\"}}}],\"scatter3d\":[{\"type\":\"scatter3d\",\"line\":{\"colorbar\":{\"outlinewidth\":0,\"ticks\":\"\"}},\"marker\":{\"colorbar\":{\"outlinewidth\":0,\"ticks\":\"\"}}}],\"scattermapbox\":[{\"type\":\"scattermapbox\",\"marker\":{\"colorbar\":{\"outlinewidth\":0,\"ticks\":\"\"}}}],\"scatterternary\":[{\"type\":\"scatterternary\",\"marker\":{\"colorbar\":{\"outlinewidth\":0,\"ticks\":\"\"}}}],\"scattercarpet\":[{\"type\":\"scattercarpet\",\"marker\":{\"colorbar\":{\"outlinewidth\":0,\"ticks\":\"\"}}}],\"carpet\":[{\"aaxis\":{\"endlinecolor\":\"#2a3f5f\",\"gridcolor\":\"white\",\"linecolor\":\"white\",\"minorgridcolor\":\"white\",\"startlinecolor\":\"#2a3f5f\"},\"baxis\":{\"endlinecolor\":\"#2a3f5f\",\"gridcolor\":\"white\",\"linecolor\":\"white\",\"minorgridcolor\":\"white\",\"startlinecolor\":\"#2a3f5f\"},\"type\":\"carpet\"}],\"table\":[{\"cells\":{\"fill\":{\"color\":\"#EBF0F8\"},\"line\":{\"color\":\"white\"}},\"header\":{\"fill\":{\"color\":\"#C8D4E3\"},\"line\":{\"color\":\"white\"}},\"type\":\"table\"}],\"barpolar\":[{\"marker\":{\"line\":{\"color\":\"#E5ECF6\",\"width\":0.5},\"pattern\":{\"fillmode\":\"overlay\",\"size\":10,\"solidity\":0.2}},\"type\":\"barpolar\"}],\"pie\":[{\"automargin\":true,\"type\":\"pie\"}]},\"layout\":{\"autotypenumbers\":\"strict\",\"colorway\":[\"#636efa\",\"#EF553B\",\"#00cc96\",\"#ab63fa\",\"#FFA15A\",\"#19d3f3\",\"#FF6692\",\"#B6E880\",\"#FF97FF\",\"#FECB52\"],\"font\":{\"color\":\"#2a3f5f\"},\"hovermode\":\"closest\",\"hoverlabel\":{\"align\":\"left\"},\"paper_bgcolor\":\"white\",\"plot_bgcolor\":\"#E5ECF6\",\"polar\":{\"bgcolor\":\"#E5ECF6\",\"angularaxis\":{\"gridcolor\":\"white\",\"linecolor\":\"white\",\"ticks\":\"\"},\"radialaxis\":{\"gridcolor\":\"white\",\"linecolor\":\"white\",\"ticks\":\"\"}},\"ternary\":{\"bgcolor\":\"#E5ECF6\",\"aaxis\":{\"gridcolor\":\"white\",\"linecolor\":\"white\",\"ticks\":\"\"},\"baxis\":{\"gridcolor\":\"white\",\"linecolor\":\"white\",\"ticks\":\"\"},\"caxis\":{\"gridcolor\":\"white\",\"linecolor\":\"white\",\"ticks\":\"\"}},\"coloraxis\":{\"colorbar\":{\"outlinewidth\":0,\"ticks\":\"\"}},\"colorscale\":{\"sequential\":[[0.0,\"#0d0887\"],[0.1111111111111111,\"#46039f\"],[0.2222222222222222,\"#7201a8\"],[0.3333333333333333,\"#9c179e\"],[0.4444444444444444,\"#bd3786\"],[0.5555555555555556,\"#d8576b\"],[0.6666666666666666,\"#ed7953\"],[0.7777777777777778,\"#fb9f3a\"],[0.8888888888888888,\"#fdca26\"],[1.0,\"#f0f921\"]],\"sequentialminus\":[[0.0,\"#0d0887\"],[0.1111111111111111,\"#46039f\"],[0.2222222222222222,\"#7201a8\"],[0.3333333333333333,\"#9c179e\"],[0.4444444444444444,\"#bd3786\"],[0.5555555555555556,\"#d8576b\"],[0.6666666666666666,\"#ed7953\"],[0.7777777777777778,\"#fb9f3a\"],[0.8888888888888888,\"#fdca26\"],[1.0,\"#f0f921\"]],\"diverging\":[[0,\"#8e0152\"],[0.1,\"#c51b7d\"],[0.2,\"#de77ae\"],[0.3,\"#f1b6da\"],[0.4,\"#fde0ef\"],[0.5,\"#f7f7f7\"],[0.6,\"#e6f5d0\"],[0.7,\"#b8e186\"],[0.8,\"#7fbc41\"],[0.9,\"#4d9221\"],[1,\"#276419\"]]},\"xaxis\":{\"gridcolor\":\"white\",\"linecolor\":\"white\",\"ticks\":\"\",\"title\":{\"standoff\":15},\"zerolinecolor\":\"white\",\"automargin\":true,\"zerolinewidth\":2},\"yaxis\":{\"gridcolor\":\"white\",\"linecolor\":\"white\",\"ticks\":\"\",\"title\":{\"standoff\":15},\"zerolinecolor\":\"white\",\"automargin\":true,\"zerolinewidth\":2},\"scene\":{\"xaxis\":{\"backgroundcolor\":\"#E5ECF6\",\"gridcolor\":\"white\",\"linecolor\":\"white\",\"showbackground\":true,\"ticks\":\"\",\"zerolinecolor\":\"white\",\"gridwidth\":2},\"yaxis\":{\"backgroundcolor\":\"#E5ECF6\",\"gridcolor\":\"white\",\"linecolor\":\"white\",\"showbackground\":true,\"ticks\":\"\",\"zerolinecolor\":\"white\",\"gridwidth\":2},\"zaxis\":{\"backgroundcolor\":\"#E5ECF6\",\"gridcolor\":\"white\",\"linecolor\":\"white\",\"showbackground\":true,\"ticks\":\"\",\"zerolinecolor\":\"white\",\"gridwidth\":2}},\"shapedefaults\":{\"line\":{\"color\":\"#2a3f5f\"}},\"annotationdefaults\":{\"arrowcolor\":\"#2a3f5f\",\"arrowhead\":0,\"arrowwidth\":1},\"geo\":{\"bgcolor\":\"white\",\"landcolor\":\"#E5ECF6\",\"subunitcolor\":\"white\",\"showland\":true,\"showlakes\":true,\"lakecolor\":\"white\"},\"title\":{\"x\":0.05},\"mapbox\":{\"style\":\"light\"}}},\"xaxis\":{\"anchor\":\"y\",\"domain\":[0.0,1.0],\"scaleanchor\":\"y\",\"constrain\":\"domain\"},\"yaxis\":{\"anchor\":\"x\",\"domain\":[0.0,1.0],\"autorange\":\"reversed\",\"constrain\":\"domain\"},\"coloraxis\":{\"colorscale\":[[0.0,\"#0d0887\"],[0.1111111111111111,\"#46039f\"],[0.2222222222222222,\"#7201a8\"],[0.3333333333333333,\"#9c179e\"],[0.4444444444444444,\"#bd3786\"],[0.5555555555555556,\"#d8576b\"],[0.6666666666666666,\"#ed7953\"],[0.7777777777777778,\"#fb9f3a\"],[0.8888888888888888,\"#fdca26\"],[1.0,\"#f0f921\"]]},\"margin\":{\"t\":60}},                        {\"responsive\": true}                    ).then(function(){\n",
       "                            \n",
       "var gd = document.getElementById('595b70ab-d0b3-469b-9ceb-233c4522ecf0');\n",
       "var x = new MutationObserver(function (mutations, observer) {{\n",
       "        var display = window.getComputedStyle(gd).display;\n",
       "        if (!display || display === 'none') {{\n",
       "            console.log([gd, 'removed!']);\n",
       "            Plotly.purge(gd);\n",
       "            observer.disconnect();\n",
       "        }}\n",
       "}});\n",
       "\n",
       "// Listen for the removal of the full notebook cells\n",
       "var notebookContainer = gd.closest('#notebook-container');\n",
       "if (notebookContainer) {{\n",
       "    x.observe(notebookContainer, {childList: true});\n",
       "}}\n",
       "\n",
       "// Listen for the clearing of the current output cell\n",
       "var outputEl = gd.closest('.output');\n",
       "if (outputEl) {{\n",
       "    x.observe(outputEl, {childList: true});\n",
       "}}\n",
       "\n",
       "                        })                };                });            </script>        </div>"
      ]
     },
     "metadata": {},
     "output_type": "display_data"
    }
   ],
   "source": [
    "\n",
    "import plotly.express as px\n",
    "\n",
    "px.imshow(fake_imgs[9].cpu().detach().numpy().reshape(28, 28)).show()"
   ]
  },
  {
   "cell_type": "code",
   "execution_count": 19,
   "metadata": {},
   "outputs": [
    {
     "data": {
      "text/plain": [
       "tensor([0.3719, 0.0007, 0.1431, 0.0079, 0.1035, 0.0179, 0.1975, 0.0017, 0.1127,\n",
       "        0.0432], device='cuda:0', grad_fn=<SelectBackward0>)"
      ]
     },
     "execution_count": 19,
     "metadata": {},
     "output_type": "execute_result"
    }
   ],
   "source": [
    "class_preds_fake.softmax(-1)[0]"
   ]
  }
 ],
 "metadata": {
  "kernelspec": {
   "display_name": "Python 3 (ipykernel)",
   "language": "python",
   "name": "python3"
  },
  "language_info": {
   "codemirror_mode": {
    "name": "ipython",
    "version": 3
   },
   "file_extension": ".py",
   "mimetype": "text/x-python",
   "name": "python",
   "nbconvert_exporter": "python",
   "pygments_lexer": "ipython3",
   "version": "3.12.2"
  }
 },
 "nbformat": 4,
 "nbformat_minor": 2
}
